{
 "cells": [
  {
   "cell_type": "markdown",
   "metadata": {
    "id": "KKgvsIObn7jz"
   },
   "source": [
    "Upload the grocery list form local \n"
   ]
  },
  {
   "cell_type": "code",
   "execution_count": 4,
   "metadata": {
    "id": "agQiHlHtyQpg"
   },
   "outputs": [],
   "source": [
    "Item = { 1001 :{'Name':\"Amul Ghee\" , 'Quntity': 5 , 'Manuf_data':'10aug2020', 'Exp_data': '03oct2021', 'Price': 750},\n",
    "         1002 :{'Name':\"KitKat\" , 'Quntity': 52 , 'Manuf_data':'02aug2020', 'Exp_data': '10oct2021', 'Price': 50},\n",
    "         1003 :{'Name':\"Milk\" , 'Quntity': 10 , 'Manuf_data':'01aug2020', 'Exp_data': '11oct2021', 'Price': 60},\n",
    "         1004 :{'Name':\"Rice\" , 'Quntity': 90 , 'Manuf_data':'06aug2020', 'Exp_data': '17oct2021', 'Price': 500},\n",
    "         1005 :{'Name':\"Daal\" , 'Quntity': 70 , 'Manuf_data':'07aug2020', 'Exp_data': '10oct2021', 'Price': 320},\n",
    "         1006 :{'Name':\"Cornflore\" , 'Quntity': 50 , 'Manuf_data':'12aug2020', 'Exp_data': '10oct2021', 'Price': 79},\n",
    "         1007 :{'Name':\"Protin\" , 'Quntity': 30 , 'Manuf_data':'22aug2020', 'Exp_data': '10oct2022', 'Price': 90},\n",
    "         1008 :{'Name':\"Allmond Oil\" , 'Quntity': 10 , 'Manuf_data':'21aug2020', 'Exp_data': '14oct2022', 'Price': 190},\n",
    "         1009 :{'Name':\"Sugar\" , 'Quntity': 100 , 'Manuf_data':'23aug2020', 'Exp_data': '10oct2022', 'Price':60},\n",
    "         1010 :{'Name':\"Bread\" , 'Quntity': 30 , 'Manuf_data':'01aug2021', 'Exp_data': '03aug2021', 'Price': 70},\n",
    "         1011 :{'Name':\"Peenut\" , 'Quntity': 100 , 'Manuf_data':'12aug2020', 'Exp_data': '11oct2022', 'Price': 390},\n",
    "         1012 :{'Name':\"Amul Chees\" , 'Quntity': 50 , 'Manuf_data':'10aug2020', 'Exp_data': '03oct2021', 'Price': 150},\n",
    "         1013 :{'Name':\"Muslii\" , 'Quntity': 52 , 'Manuf_data':'02aug2020', 'Exp_data': '10oct2021', 'Price': 650},\n",
    "         1014 :{'Name':\"Maggi\" , 'Quntity': 10 , 'Manuf_data':'01aug2020', 'Exp_data': '11oct2021', 'Price': 60},\n",
    "         1015 :{'Name':\"oats\" , 'Quntity': 80 , 'Manuf_data':'02aug2020', 'Exp_data': '17oct2021', 'Price': 340},\n",
    "         1016 :{'Name':\"Daal\" , 'Quntity': 70 , 'Manuf_data':'07aug2020', 'Exp_data': '10oct2021', 'Price': 320},\n",
    "         1017 :{'Name':\"Corn\" , 'Quntity': 50 , 'Manuf_data':'12aug2020', 'Exp_data': '10oct2021', 'Price': 79},\n",
    "         1018 :{'Name':\"Meat Masala\" , 'Quntity': 30 , 'Manuf_data':'22aug2020', 'Exp_data': '10oct2022', 'Price': 90},\n",
    "         1019 :{'Name':\"Sampoo\" , 'Quntity': 500 , 'Manuf_data':'21aug2020', 'Exp_data': '14oct2022', 'Price': 190},\n",
    "         1020 :{'Name':\"Colgate\" , 'Quntity': 700 , 'Manuf_data':'23aug2020', 'Exp_data': '10oct2022', 'Price':60},\n",
    "         1021 :{'Name':\"Panneer\" , 'Quntity': 300 , 'Manuf_data':'01aug2021', 'Exp_data': '03aug2021', 'Price': 370},\n",
    "         1022 :{'Name':\"Peenut\" , 'Quntity': 100 , 'Manuf_data':'12aug2020', 'Exp_data': '11oct2022', 'Price': 390},\n",
    "         1023 :{'Name':\"Namkeen\" , 'Quntity': 88 , 'Manuf_data':'11aug2020', 'Exp_data': '13oct2021', 'Price': 110},\n",
    "         1024 :{'Name':\"Milk Powder\" , 'Quntity': 100 , 'Manuf_data':'01aug2020', 'Exp_data': '11oct2021', 'Price': 60},\n",
    "         1025 :{'Name':\"Pasta\" , 'Quntity': 90 , 'Manuf_data':'06aug2020', 'Exp_data': '17oct2021', 'Price': 500},\n",
    "         1026 :{'Name':\"Tomato Kactup\" , 'Quntity': 70 , 'Manuf_data':'07aug2020', 'Exp_data': '10oct2021', 'Price': 2},\n",
    "         1027 :{'Name':\"Egg\" , 'Quntity': 500 , 'Manuf_data':'12aug2021', 'Exp_data': '10oct2021', 'Price': 10},\n",
    "         1028 :{'Name':\"Green tea\" , 'Quntity': 300 , 'Manuf_data':'22aug2021', 'Exp_data': '15oct2022', 'Price': 450},\n",
    "         1029 :{'Name':\"Noodels\" , 'Quntity': 70 , 'Manuf_data':'02aug2020', 'Exp_data': '10oct2022', 'Price': 150},\n",
    "         1030 :{'Name':\"Boost\" , 'Quntity': 100 , 'Manuf_data':'28aug2020', 'Exp_data': '24oct2022', 'Price': 190}}\n"
   ]
  },
  {
   "cell_type": "code",
   "execution_count": 19,
   "metadata": {
    "colab": {
     "base_uri": "https://localhost:8080/"
    },
    "id": "Wo_bA1JYyVY7",
    "outputId": "b195bcb4-8010-4033-ce32-2e0713f5921d"
   },
   "outputs": [
    {
     "name": "stdin",
     "output_type": "stream",
     "text": [
      "Enter the ID of product:  1001\n"
     ]
    },
    {
     "name": "stdout",
     "output_type": "stream",
     "text": [
      "Name of product : Amul Ghee\n",
      "NO. of Quntity : 25\n",
      "Price per_piece: 750\n",
      "Mnf_data: 10aug2020\n",
      "Exp_data: 03oct2021\n"
     ]
    }
   ],
   "source": [
    "Item_ID = int(input(\"Enter the ID of product: \"))\n",
    "\n",
    "#print(Item[Item_ID])\n",
    "print(\"Name of product :\" ,Item[Item_ID]['Name'])\n",
    "print(\"NO. of Quntity :\" , Item[Item_ID]['Quntity'])\n",
    "print(\"Price per_piece:\" , Item[Item_ID]['Price'])\n",
    "print(\"Mnf_data:\",Item[Item_ID]['Manuf_data'] )\n",
    "print(\"Exp_data:\",Item[Item_ID]['Exp_data'] )"
   ]
  },
  {
   "cell_type": "code",
   "execution_count": null,
   "metadata": {
    "id": "vhmcKjUtyYUk"
   },
   "outputs": [],
   "source": []
  },
  {
   "cell_type": "markdown",
   "metadata": {
    "id": "QNjk29szyi0p"
   },
   "source": [
    "####If we want to updata the quntity of particular product\n"
   ]
  },
  {
   "cell_type": "code",
   "execution_count": 20,
   "metadata": {
    "colab": {
     "base_uri": "https://localhost:8080/"
    },
    "id": "c0RY1RpYy5rk",
    "outputId": "c4ed0d65-9362-4b1d-8097-c2b3315c7326"
   },
   "outputs": [
    {
     "name": "stdin",
     "output_type": "stream",
     "text": [
      "enter the id of product:  1001\n",
      "enter the number of product:  25\n"
     ]
    },
    {
     "name": "stdout",
     "output_type": "stream",
     "text": [
      "50\n",
      "Succefully update the quntity: 50\n"
     ]
    }
   ],
   "source": [
    "Updata_item = int(input(\"enter the id of product: \"))\n",
    "Updata_item = int(input(\"enter the number of product: \"))\n",
    "\n",
    "New_data =  Item[Item_ID]['Quntity'] + Updata_item \n",
    "print(New_data)\n",
    "\n",
    "Item[Item_ID]['Quntity'] = New_data\n",
    "print(\"Succefully update the quntity:\", Item[Item_ID]['Quntity'])"
   ]
  },
  {
   "cell_type": "code",
   "execution_count": 21,
   "metadata": {
    "colab": {
     "base_uri": "https://localhost:8080/"
    },
    "id": "1GQUPJWKy9uT",
    "outputId": "3152419b-0534-4a6a-a4db-62e68b26efb5"
   },
   "outputs": [
    {
     "data": {
      "text/plain": [
       "{1001: {'Name': 'Amul Ghee',\n",
       "  'Quntity': 50,\n",
       "  'Manuf_data': '10aug2020',\n",
       "  'Exp_data': '03oct2021',\n",
       "  'Price': 750},\n",
       " 1002: {'Name': 'KitKat',\n",
       "  'Quntity': 52,\n",
       "  'Manuf_data': '02aug2020',\n",
       "  'Exp_data': '10oct2021',\n",
       "  'Price': 50},\n",
       " 1003: {'Name': 'Milk',\n",
       "  'Quntity': 10,\n",
       "  'Manuf_data': '01aug2020',\n",
       "  'Exp_data': '11oct2021',\n",
       "  'Price': 60},\n",
       " 1004: {'Name': 'Rice',\n",
       "  'Quntity': 90,\n",
       "  'Manuf_data': '06aug2020',\n",
       "  'Exp_data': '17oct2021',\n",
       "  'Price': 500},\n",
       " 1005: {'Name': 'Daal',\n",
       "  'Quntity': 70,\n",
       "  'Manuf_data': '07aug2020',\n",
       "  'Exp_data': '10oct2021',\n",
       "  'Price': 320},\n",
       " 1006: {'Name': 'Cornflore',\n",
       "  'Quntity': 50,\n",
       "  'Manuf_data': '12aug2020',\n",
       "  'Exp_data': '10oct2021',\n",
       "  'Price': 79},\n",
       " 1007: {'Name': 'Protin',\n",
       "  'Quntity': 30,\n",
       "  'Manuf_data': '22aug2020',\n",
       "  'Exp_data': '10oct2022',\n",
       "  'Price': 90},\n",
       " 1008: {'Name': 'Allmond Oil',\n",
       "  'Quntity': 10,\n",
       "  'Manuf_data': '21aug2020',\n",
       "  'Exp_data': '14oct2022',\n",
       "  'Price': 190},\n",
       " 1009: {'Name': 'Sugar',\n",
       "  'Quntity': 100,\n",
       "  'Manuf_data': '23aug2020',\n",
       "  'Exp_data': '10oct2022',\n",
       "  'Price': 60},\n",
       " 1010: {'Name': 'Bread',\n",
       "  'Quntity': 30,\n",
       "  'Manuf_data': '01aug2021',\n",
       "  'Exp_data': '03aug2021',\n",
       "  'Price': 70},\n",
       " 1011: {'Name': 'Peenut',\n",
       "  'Quntity': 100,\n",
       "  'Manuf_data': '12aug2020',\n",
       "  'Exp_data': '11oct2022',\n",
       "  'Price': 390},\n",
       " 1012: {'Name': 'Amul Chees',\n",
       "  'Quntity': 50,\n",
       "  'Manuf_data': '10aug2020',\n",
       "  'Exp_data': '03oct2021',\n",
       "  'Price': 150},\n",
       " 1013: {'Name': 'Muslii',\n",
       "  'Quntity': 52,\n",
       "  'Manuf_data': '02aug2020',\n",
       "  'Exp_data': '10oct2021',\n",
       "  'Price': 650},\n",
       " 1014: {'Name': 'Maggi',\n",
       "  'Quntity': 10,\n",
       "  'Manuf_data': '01aug2020',\n",
       "  'Exp_data': '11oct2021',\n",
       "  'Price': 60},\n",
       " 1015: {'Name': 'oats',\n",
       "  'Quntity': 80,\n",
       "  'Manuf_data': '02aug2020',\n",
       "  'Exp_data': '17oct2021',\n",
       "  'Price': 340},\n",
       " 1016: {'Name': 'Daal',\n",
       "  'Quntity': 70,\n",
       "  'Manuf_data': '07aug2020',\n",
       "  'Exp_data': '10oct2021',\n",
       "  'Price': 320},\n",
       " 1017: {'Name': 'Corn',\n",
       "  'Quntity': 50,\n",
       "  'Manuf_data': '12aug2020',\n",
       "  'Exp_data': '10oct2021',\n",
       "  'Price': 79},\n",
       " 1018: {'Name': 'Meat Masala',\n",
       "  'Quntity': 30,\n",
       "  'Manuf_data': '22aug2020',\n",
       "  'Exp_data': '10oct2022',\n",
       "  'Price': 90},\n",
       " 1019: {'Name': 'Sampoo',\n",
       "  'Quntity': 500,\n",
       "  'Manuf_data': '21aug2020',\n",
       "  'Exp_data': '14oct2022',\n",
       "  'Price': 190},\n",
       " 1020: {'Name': 'Colgate',\n",
       "  'Quntity': 700,\n",
       "  'Manuf_data': '23aug2020',\n",
       "  'Exp_data': '10oct2022',\n",
       "  'Price': 60},\n",
       " 1021: {'Name': 'Panneer',\n",
       "  'Quntity': 300,\n",
       "  'Manuf_data': '01aug2021',\n",
       "  'Exp_data': '03aug2021',\n",
       "  'Price': 370},\n",
       " 1022: {'Name': 'Peenut',\n",
       "  'Quntity': 100,\n",
       "  'Manuf_data': '12aug2020',\n",
       "  'Exp_data': '11oct2022',\n",
       "  'Price': 390},\n",
       " 1023: {'Name': 'Namkeen',\n",
       "  'Quntity': 88,\n",
       "  'Manuf_data': '11aug2020',\n",
       "  'Exp_data': '13oct2021',\n",
       "  'Price': 110},\n",
       " 1024: {'Name': 'Milk Powder',\n",
       "  'Quntity': 100,\n",
       "  'Manuf_data': '01aug2020',\n",
       "  'Exp_data': '11oct2021',\n",
       "  'Price': 60},\n",
       " 1025: {'Name': 'Pasta',\n",
       "  'Quntity': 90,\n",
       "  'Manuf_data': '06aug2020',\n",
       "  'Exp_data': '17oct2021',\n",
       "  'Price': 500},\n",
       " 1026: {'Name': 'Tomato Kactup',\n",
       "  'Quntity': 70,\n",
       "  'Manuf_data': '07aug2020',\n",
       "  'Exp_data': '10oct2021',\n",
       "  'Price': 2},\n",
       " 1027: {'Name': 'Egg',\n",
       "  'Quntity': 500,\n",
       "  'Manuf_data': '12aug2021',\n",
       "  'Exp_data': '10oct2021',\n",
       "  'Price': 10},\n",
       " 1028: {'Name': 'Green tea',\n",
       "  'Quntity': 300,\n",
       "  'Manuf_data': '22aug2021',\n",
       "  'Exp_data': '15oct2022',\n",
       "  'Price': 450},\n",
       " 1029: {'Name': 'Noodels',\n",
       "  'Quntity': 70,\n",
       "  'Manuf_data': '02aug2020',\n",
       "  'Exp_data': '10oct2022',\n",
       "  'Price': 150},\n",
       " 1030: {'Name': 'Boost',\n",
       "  'Quntity': 100,\n",
       "  'Manuf_data': '28aug2020',\n",
       "  'Exp_data': '24oct2022',\n",
       "  'Price': 190}}"
      ]
     },
     "execution_count": 21,
     "metadata": {},
     "output_type": "execute_result"
    }
   ],
   "source": [
    "#Now you check the new list\n",
    "Item"
   ]
  },
  {
   "cell_type": "code",
   "execution_count": null,
   "metadata": {
    "id": "feTAxotOzOAh"
   },
   "outputs": [],
   "source": []
  },
  {
   "cell_type": "markdown",
   "metadata": {
    "id": "TUcU7KZ7zW9_"
   },
   "source": [
    "# To check your update item with Item_id"
   ]
  },
  {
   "cell_type": "code",
   "execution_count": 10,
   "metadata": {
    "colab": {
     "base_uri": "https://localhost:8080/"
    },
    "id": "IiVp63PNzZQ1",
    "outputId": "7ab4d6b4-5aec-42d4-a651-8bde175ee242"
   },
   "outputs": [
    {
     "name": "stdin",
     "output_type": "stream",
     "text": [
      "Enter the ID of product:  1001\n"
     ]
    },
    {
     "name": "stdout",
     "output_type": "stream",
     "text": [
      "Name of product : Amul Ghee\n",
      "NO. of Quntity : 25\n",
      "Price per_piece: 750\n",
      "Mnf_data: 10aug2020\n",
      "Exp_data: 03oct2021\n"
     ]
    }
   ],
   "source": [
    "Item_ID = int(input(\"Enter the ID of product: \"))\n",
    "\n",
    "print(\"Name of product :\" ,Item[Item_ID]['Name'])\n",
    "print(\"NO. of Quntity :\" , Item[Item_ID]['Quntity'])\n",
    "print(\"Price per_piece:\" , Item[Item_ID]['Price'])\n",
    "print(\"Mnf_data:\",Item[Item_ID]['Manuf_data'] )\n",
    "print(\"Exp_data:\",Item[Item_ID]['Exp_data'] )"
   ]
  },
  {
   "cell_type": "markdown",
   "metadata": {
    "id": "UiHodvWFzm2G"
   },
   "source": [
    "# Import jason to save the dic into str"
   ]
  },
  {
   "cell_type": "code",
   "execution_count": 11,
   "metadata": {
    "id": "rynWCfgGzvpH"
   },
   "outputs": [],
   "source": [
    "import json"
   ]
  },
  {
   "cell_type": "code",
   "execution_count": 12,
   "metadata": {
    "id": "3iobn365z2Yw"
   },
   "outputs": [],
   "source": [
    "js = json.dumps(Item)"
   ]
  },
  {
   "cell_type": "code",
   "execution_count": 13,
   "metadata": {
    "colab": {
     "base_uri": "https://localhost:8080/",
     "height": 171
    },
    "id": "_uMPg08Rz3dX",
    "outputId": "91a4c382-4c5c-491c-a894-346362a02bc2"
   },
   "outputs": [
    {
     "data": {
      "text/plain": [
       "'{\"1001\": {\"Name\": \"Amul Ghee\", \"Quntity\": 25, \"Manuf_data\": \"10aug2020\", \"Exp_data\": \"03oct2021\", \"Price\": 750}, \"1002\": {\"Name\": \"KitKat\", \"Quntity\": 52, \"Manuf_data\": \"02aug2020\", \"Exp_data\": \"10oct2021\", \"Price\": 50}, \"1003\": {\"Name\": \"Milk\", \"Quntity\": 10, \"Manuf_data\": \"01aug2020\", \"Exp_data\": \"11oct2021\", \"Price\": 60}, \"1004\": {\"Name\": \"Rice\", \"Quntity\": 90, \"Manuf_data\": \"06aug2020\", \"Exp_data\": \"17oct2021\", \"Price\": 500}, \"1005\": {\"Name\": \"Daal\", \"Quntity\": 70, \"Manuf_data\": \"07aug2020\", \"Exp_data\": \"10oct2021\", \"Price\": 320}, \"1006\": {\"Name\": \"Cornflore\", \"Quntity\": 50, \"Manuf_data\": \"12aug2020\", \"Exp_data\": \"10oct2021\", \"Price\": 79}, \"1007\": {\"Name\": \"Protin\", \"Quntity\": 30, \"Manuf_data\": \"22aug2020\", \"Exp_data\": \"10oct2022\", \"Price\": 90}, \"1008\": {\"Name\": \"Allmond Oil\", \"Quntity\": 10, \"Manuf_data\": \"21aug2020\", \"Exp_data\": \"14oct2022\", \"Price\": 190}, \"1009\": {\"Name\": \"Sugar\", \"Quntity\": 100, \"Manuf_data\": \"23aug2020\", \"Exp_data\": \"10oct2022\", \"Price\": 60}, \"1010\": {\"Name\": \"Bread\", \"Quntity\": 30, \"Manuf_data\": \"01aug2021\", \"Exp_data\": \"03aug2021\", \"Price\": 70}, \"1011\": {\"Name\": \"Peenut\", \"Quntity\": 100, \"Manuf_data\": \"12aug2020\", \"Exp_data\": \"11oct2022\", \"Price\": 390}, \"1012\": {\"Name\": \"Amul Chees\", \"Quntity\": 50, \"Manuf_data\": \"10aug2020\", \"Exp_data\": \"03oct2021\", \"Price\": 150}, \"1013\": {\"Name\": \"Muslii\", \"Quntity\": 52, \"Manuf_data\": \"02aug2020\", \"Exp_data\": \"10oct2021\", \"Price\": 650}, \"1014\": {\"Name\": \"Maggi\", \"Quntity\": 10, \"Manuf_data\": \"01aug2020\", \"Exp_data\": \"11oct2021\", \"Price\": 60}, \"1015\": {\"Name\": \"oats\", \"Quntity\": 80, \"Manuf_data\": \"02aug2020\", \"Exp_data\": \"17oct2021\", \"Price\": 340}, \"1016\": {\"Name\": \"Daal\", \"Quntity\": 70, \"Manuf_data\": \"07aug2020\", \"Exp_data\": \"10oct2021\", \"Price\": 320}, \"1017\": {\"Name\": \"Corn\", \"Quntity\": 50, \"Manuf_data\": \"12aug2020\", \"Exp_data\": \"10oct2021\", \"Price\": 79}, \"1018\": {\"Name\": \"Meat Masala\", \"Quntity\": 30, \"Manuf_data\": \"22aug2020\", \"Exp_data\": \"10oct2022\", \"Price\": 90}, \"1019\": {\"Name\": \"Sampoo\", \"Quntity\": 500, \"Manuf_data\": \"21aug2020\", \"Exp_data\": \"14oct2022\", \"Price\": 190}, \"1020\": {\"Name\": \"Colgate\", \"Quntity\": 700, \"Manuf_data\": \"23aug2020\", \"Exp_data\": \"10oct2022\", \"Price\": 60}, \"1021\": {\"Name\": \"Panneer\", \"Quntity\": 300, \"Manuf_data\": \"01aug2021\", \"Exp_data\": \"03aug2021\", \"Price\": 370}, \"1022\": {\"Name\": \"Peenut\", \"Quntity\": 100, \"Manuf_data\": \"12aug2020\", \"Exp_data\": \"11oct2022\", \"Price\": 390}, \"1023\": {\"Name\": \"Namkeen\", \"Quntity\": 88, \"Manuf_data\": \"11aug2020\", \"Exp_data\": \"13oct2021\", \"Price\": 110}, \"1024\": {\"Name\": \"Milk Powder\", \"Quntity\": 100, \"Manuf_data\": \"01aug2020\", \"Exp_data\": \"11oct2021\", \"Price\": 60}, \"1025\": {\"Name\": \"Pasta\", \"Quntity\": 90, \"Manuf_data\": \"06aug2020\", \"Exp_data\": \"17oct2021\", \"Price\": 500}, \"1026\": {\"Name\": \"Tomato Kactup\", \"Quntity\": 70, \"Manuf_data\": \"07aug2020\", \"Exp_data\": \"10oct2021\", \"Price\": 2}, \"1027\": {\"Name\": \"Egg\", \"Quntity\": 500, \"Manuf_data\": \"12aug2021\", \"Exp_data\": \"10oct2021\", \"Price\": 10}, \"1028\": {\"Name\": \"Green tea\", \"Quntity\": 300, \"Manuf_data\": \"22aug2021\", \"Exp_data\": \"15oct2022\", \"Price\": 450}, \"1029\": {\"Name\": \"Noodels\", \"Quntity\": 70, \"Manuf_data\": \"02aug2020\", \"Exp_data\": \"10oct2022\", \"Price\": 150}, \"1030\": {\"Name\": \"Boost\", \"Quntity\": 100, \"Manuf_data\": \"28aug2020\", \"Exp_data\": \"24oct2022\", \"Price\": 190}}'"
      ]
     },
     "execution_count": 13,
     "metadata": {},
     "output_type": "execute_result"
    }
   ],
   "source": [
    "js"
   ]
  },
  {
   "cell_type": "code",
   "execution_count": null,
   "metadata": {
    "id": "xUjSneRzz7XY"
   },
   "outputs": [],
   "source": [
    "#"
   ]
  },
  {
   "cell_type": "markdown",
   "metadata": {
    "id": "p3GC83vvz_wd"
   },
   "source": [
    "# File handling"
   ]
  },
  {
   "cell_type": "code",
   "execution_count": 14,
   "metadata": {
    "id": "_z5eosUI0FBU"
   },
   "outputs": [],
   "source": [
    "data = open(\"Item.json\", 'w')\n",
    "data.write(js)\n",
    "data.close()"
   ]
  },
  {
   "cell_type": "code",
   "execution_count": 15,
   "metadata": {
    "id": "jKz0pSqu0atZ"
   },
   "outputs": [],
   "source": [
    "data = open(\"Item.json\", 'r')\n",
    "text = data.read()\n",
    "data.close()"
   ]
  },
  {
   "cell_type": "code",
   "execution_count": 16,
   "metadata": {
    "colab": {
     "base_uri": "https://localhost:8080/",
     "height": 171
    },
    "id": "1cPp4AGn0g0W",
    "outputId": "616be471-031b-41e5-e0d6-bcb3d1f551b7"
   },
   "outputs": [
    {
     "data": {
      "text/plain": [
       "'{\"1001\": {\"Name\": \"Amul Ghee\", \"Quntity\": 25, \"Manuf_data\": \"10aug2020\", \"Exp_data\": \"03oct2021\", \"Price\": 750}, \"1002\": {\"Name\": \"KitKat\", \"Quntity\": 52, \"Manuf_data\": \"02aug2020\", \"Exp_data\": \"10oct2021\", \"Price\": 50}, \"1003\": {\"Name\": \"Milk\", \"Quntity\": 10, \"Manuf_data\": \"01aug2020\", \"Exp_data\": \"11oct2021\", \"Price\": 60}, \"1004\": {\"Name\": \"Rice\", \"Quntity\": 90, \"Manuf_data\": \"06aug2020\", \"Exp_data\": \"17oct2021\", \"Price\": 500}, \"1005\": {\"Name\": \"Daal\", \"Quntity\": 70, \"Manuf_data\": \"07aug2020\", \"Exp_data\": \"10oct2021\", \"Price\": 320}, \"1006\": {\"Name\": \"Cornflore\", \"Quntity\": 50, \"Manuf_data\": \"12aug2020\", \"Exp_data\": \"10oct2021\", \"Price\": 79}, \"1007\": {\"Name\": \"Protin\", \"Quntity\": 30, \"Manuf_data\": \"22aug2020\", \"Exp_data\": \"10oct2022\", \"Price\": 90}, \"1008\": {\"Name\": \"Allmond Oil\", \"Quntity\": 10, \"Manuf_data\": \"21aug2020\", \"Exp_data\": \"14oct2022\", \"Price\": 190}, \"1009\": {\"Name\": \"Sugar\", \"Quntity\": 100, \"Manuf_data\": \"23aug2020\", \"Exp_data\": \"10oct2022\", \"Price\": 60}, \"1010\": {\"Name\": \"Bread\", \"Quntity\": 30, \"Manuf_data\": \"01aug2021\", \"Exp_data\": \"03aug2021\", \"Price\": 70}, \"1011\": {\"Name\": \"Peenut\", \"Quntity\": 100, \"Manuf_data\": \"12aug2020\", \"Exp_data\": \"11oct2022\", \"Price\": 390}, \"1012\": {\"Name\": \"Amul Chees\", \"Quntity\": 50, \"Manuf_data\": \"10aug2020\", \"Exp_data\": \"03oct2021\", \"Price\": 150}, \"1013\": {\"Name\": \"Muslii\", \"Quntity\": 52, \"Manuf_data\": \"02aug2020\", \"Exp_data\": \"10oct2021\", \"Price\": 650}, \"1014\": {\"Name\": \"Maggi\", \"Quntity\": 10, \"Manuf_data\": \"01aug2020\", \"Exp_data\": \"11oct2021\", \"Price\": 60}, \"1015\": {\"Name\": \"oats\", \"Quntity\": 80, \"Manuf_data\": \"02aug2020\", \"Exp_data\": \"17oct2021\", \"Price\": 340}, \"1016\": {\"Name\": \"Daal\", \"Quntity\": 70, \"Manuf_data\": \"07aug2020\", \"Exp_data\": \"10oct2021\", \"Price\": 320}, \"1017\": {\"Name\": \"Corn\", \"Quntity\": 50, \"Manuf_data\": \"12aug2020\", \"Exp_data\": \"10oct2021\", \"Price\": 79}, \"1018\": {\"Name\": \"Meat Masala\", \"Quntity\": 30, \"Manuf_data\": \"22aug2020\", \"Exp_data\": \"10oct2022\", \"Price\": 90}, \"1019\": {\"Name\": \"Sampoo\", \"Quntity\": 500, \"Manuf_data\": \"21aug2020\", \"Exp_data\": \"14oct2022\", \"Price\": 190}, \"1020\": {\"Name\": \"Colgate\", \"Quntity\": 700, \"Manuf_data\": \"23aug2020\", \"Exp_data\": \"10oct2022\", \"Price\": 60}, \"1021\": {\"Name\": \"Panneer\", \"Quntity\": 300, \"Manuf_data\": \"01aug2021\", \"Exp_data\": \"03aug2021\", \"Price\": 370}, \"1022\": {\"Name\": \"Peenut\", \"Quntity\": 100, \"Manuf_data\": \"12aug2020\", \"Exp_data\": \"11oct2022\", \"Price\": 390}, \"1023\": {\"Name\": \"Namkeen\", \"Quntity\": 88, \"Manuf_data\": \"11aug2020\", \"Exp_data\": \"13oct2021\", \"Price\": 110}, \"1024\": {\"Name\": \"Milk Powder\", \"Quntity\": 100, \"Manuf_data\": \"01aug2020\", \"Exp_data\": \"11oct2021\", \"Price\": 60}, \"1025\": {\"Name\": \"Pasta\", \"Quntity\": 90, \"Manuf_data\": \"06aug2020\", \"Exp_data\": \"17oct2021\", \"Price\": 500}, \"1026\": {\"Name\": \"Tomato Kactup\", \"Quntity\": 70, \"Manuf_data\": \"07aug2020\", \"Exp_data\": \"10oct2021\", \"Price\": 2}, \"1027\": {\"Name\": \"Egg\", \"Quntity\": 500, \"Manuf_data\": \"12aug2021\", \"Exp_data\": \"10oct2021\", \"Price\": 10}, \"1028\": {\"Name\": \"Green tea\", \"Quntity\": 300, \"Manuf_data\": \"22aug2021\", \"Exp_data\": \"15oct2022\", \"Price\": 450}, \"1029\": {\"Name\": \"Noodels\", \"Quntity\": 70, \"Manuf_data\": \"02aug2020\", \"Exp_data\": \"10oct2022\", \"Price\": 150}, \"1030\": {\"Name\": \"Boost\", \"Quntity\": 100, \"Manuf_data\": \"28aug2020\", \"Exp_data\": \"24oct2022\", \"Price\": 190}}'"
      ]
     },
     "execution_count": 16,
     "metadata": {},
     "output_type": "execute_result"
    }
   ],
   "source": [
    "text"
   ]
  }
 ],
 "metadata": {
  "colab": {
   "name": "Grocery.ipynb",
   "provenance": [],
   "toc_visible": true
  },
  "kernelspec": {
   "display_name": "Python 3",
   "language": "python",
   "name": "python3"
  },
  "language_info": {
   "codemirror_mode": {
    "name": "ipython",
    "version": 3
   },
   "file_extension": ".py",
   "mimetype": "text/x-python",
   "name": "python",
   "nbconvert_exporter": "python",
   "pygments_lexer": "ipython3",
   "version": "3.8.5"
  }
 },
 "nbformat": 4,
 "nbformat_minor": 4
}
