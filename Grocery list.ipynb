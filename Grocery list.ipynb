{
 "cells": [
  {
   "cell_type": "code",
   "execution_count": 65,
   "metadata": {},
   "outputs": [],
   "source": [
    "Item = { 1001 :{'Name':\"Amul Ghee\" , 'Quntity': 5 , 'Manuf_data':'10aug2020', 'Exp_data': '03oct2021', 'Price': 750},\n",
    "         1002 :{'Name':\"KitKat\" , 'Quntity': 52 , 'Manuf_data':'02aug2020', 'Exp_data': '10oct2021', 'Price': 50},\n",
    "         1003 :{'Name':\"Milk\" , 'Quntity': 10 , 'Manuf_data':'01aug2020', 'Exp_data': '11oct2021', 'Price': 60},\n",
    "         1004 :{'Name':\"Rice\" , 'Quntity': 90 , 'Manuf_data':'06aug2020', 'Exp_data': '17oct2021', 'Price': 500},\n",
    "         1005 :{'Name':\"Daal\" , 'Quntity': 70 , 'Manuf_data':'07aug2020', 'Exp_data': '10oct2021', 'Price': 320},\n",
    "         1006 :{'Name':\"Cornflore\" , 'Quntity': 50 , 'Manuf_data':'12aug2020', 'Exp_data': '10oct2021', 'Price': 79},\n",
    "         1007 :{'Name':\"Protin\" , 'Quntity': 30 , 'Manuf_data':'22aug2020', 'Exp_data': '10oct2022', 'Price': 90},\n",
    "         1008 :{'Name':\"Allmond Oil\" , 'Quntity': 10 , 'Manuf_data':'21aug2020', 'Exp_data': '14oct2022', 'Price': 190},\n",
    "         1009 :{'Name':\"Sugar\" , 'Quntity': 100 , 'Manuf_data':'23aug2020', 'Exp_data': '10oct2022', 'Price':60},\n",
    "         1010 :{'Name':\"Bread\" , 'Quntity': 30 , 'Manuf_data':'01aug2021', 'Exp_data': '03aug2021', 'Price': 70},\n",
    "         1011 :{'Name':\"Peenut\" , 'Quntity': 100 , 'Manuf_data':'12aug2020', 'Exp_data': '11oct2022', 'Price': 390},\n",
    "         1012 :{'Name':\"Amul Chees\" , 'Quntity': 50 , 'Manuf_data':'10aug2020', 'Exp_data': '03oct2021', 'Price': 150},\n",
    "         1013 :{'Name':\"Muslii\" , 'Quntity': 52 , 'Manuf_data':'02aug2020', 'Exp_data': '10oct2021', 'Price': 650},\n",
    "         1014 :{'Name':\"Maggi\" , 'Quntity': 10 , 'Manuf_data':'01aug2020', 'Exp_data': '11oct2021', 'Price': 60},\n",
    "         1015 :{'Name':\"oats\" , 'Quntity': 80 , 'Manuf_data':'02aug2020', 'Exp_data': '17oct2021', 'Price': 340},\n",
    "         1016 :{'Name':\"Daal\" , 'Quntity': 70 , 'Manuf_data':'07aug2020', 'Exp_data': '10oct2021', 'Price': 320},\n",
    "         1017 :{'Name':\"Corn\" , 'Quntity': 50 , 'Manuf_data':'12aug2020', 'Exp_data': '10oct2021', 'Price': 79},\n",
    "         1018 :{'Name':\"Meat Masala\" , 'Quntity': 30 , 'Manuf_data':'22aug2020', 'Exp_data': '10oct2022', 'Price': 90},\n",
    "         1019 :{'Name':\"Sampoo\" , 'Quntity': 500 , 'Manuf_data':'21aug2020', 'Exp_data': '14oct2022', 'Price': 190},\n",
    "         1020 :{'Name':\"Colgate\" , 'Quntity': 700 , 'Manuf_data':'23aug2020', 'Exp_data': '10oct2022', 'Price':60},\n",
    "         1021 :{'Name':\"Panneer\" , 'Quntity': 300 , 'Manuf_data':'01aug2021', 'Exp_data': '03aug2021', 'Price': 370},\n",
    "         1022 :{'Name':\"Peenut\" , 'Quntity': 100 , 'Manuf_data':'12aug2020', 'Exp_data': '11oct2022', 'Price': 390},\n",
    "         1023 :{'Name':\"Namkeen\" , 'Quntity': 88 , 'Manuf_data':'11aug2020', 'Exp_data': '13oct2021', 'Price': 110},\n",
    "         1024 :{'Name':\"Milk Powder\" , 'Quntity': 100 , 'Manuf_data':'01aug2020', 'Exp_data': '11oct2021', 'Price': 60},\n",
    "         1025 :{'Name':\"Pasta\" , 'Quntity': 90 , 'Manuf_data':'06aug2020', 'Exp_data': '17oct2021', 'Price': 500},\n",
    "         1026 :{'Name':\"Tomato Kactup\" , 'Quntity': 70 , 'Manuf_data':'07aug2020', 'Exp_data': '10oct2021', 'Price': 2},\n",
    "         1027 :{'Name':\"Egg\" , 'Quntity': 500 , 'Manuf_data':'12aug2021', 'Exp_data': '10oct2021', 'Price': 10},\n",
    "         1028 :{'Name':\"Green tea\" , 'Quntity': 300 , 'Manuf_data':'22aug2021', 'Exp_data': '15oct2022', 'Price': 450},\n",
    "         1029 :{'Name':\"Noodels\" , 'Quntity': 70 , 'Manuf_data':'02aug2020', 'Exp_data': '10oct2022', 'Price': 150},\n",
    "         1030 :{'Name':\"Boost\" , 'Quntity': 100 , 'Manuf_data':'28aug2020', 'Exp_data': '24oct2022', 'Price': 190}}\n"
   ]
  },
  {
   "cell_type": "code",
   "execution_count": 66,
   "metadata": {},
   "outputs": [
    {
     "name": "stdin",
     "output_type": "stream",
     "text": [
      "Enter the ID of product:  1010\n"
     ]
    },
    {
     "name": "stdout",
     "output_type": "stream",
     "text": [
      "Name of product : Bread\n",
      "NO. of Quntity : 30\n",
      "Price per_piece: 70\n",
      "Mnf_data: 01aug2021\n",
      "Exp_data: 03aug2021\n"
     ]
    }
   ],
   "source": [
    "Item_ID = int(input(\"Enter the ID of product: \"))\n",
    "\n",
    "#print(Item[Item_ID])\n",
    "print(\"Name of product :\" ,Item[Item_ID]['Name'])\n",
    "print(\"NO. of Quntity :\" , Item[Item_ID]['Quntity'])\n",
    "print(\"Price per_piece:\" , Item[Item_ID]['Price'])\n",
    "print(\"Mnf_data:\",Item[Item_ID]['Manuf_data'] )\n",
    "print(\"Exp_data:\",Item[Item_ID]['Exp_data'] )"
   ]
  },
  {
   "cell_type": "markdown",
   "metadata": {},
   "source": [
    "##If we want to updata the quntity of particular product"
   ]
  },
  {
   "cell_type": "code",
   "execution_count": 67,
   "metadata": {},
   "outputs": [
    {
     "name": "stdin",
     "output_type": "stream",
     "text": [
      "enter the id of product:  1010\n",
      "enter the number of product:  25\n"
     ]
    },
    {
     "name": "stdout",
     "output_type": "stream",
     "text": [
      "55\n",
      "You succefully update the quntity: 55\n"
     ]
    }
   ],
   "source": [
    "Updata_item = int(input(\"enter the id of product: \"))\n",
    "Updata_item = int(input(\"enter the number of product: \"))\n",
    "\n",
    "New_data =  Item[Item_ID]['Quntity'] + Updata_item \n",
    "print(New_data)\n",
    "\n",
    "Item[Item_ID]['Quntity'] = New_data\n",
    "print(\"Succefully update the quntity:\", Item[Item_ID]['Quntity'])"
   ]
  },
  {
   "cell_type": "code",
   "execution_count": 70,
   "metadata": {
    "collapsed": true,
    "jupyter": {
     "outputs_hidden": true
    }
   },
   "outputs": [
    {
     "data": {
      "text/plain": [
       "{1001: {'Name': 'Amul Ghee',\n",
       "  'Quntity': 5,\n",
       "  'Manuf_data': '10aug2020',\n",
       "  'Exp_data': '03oct2021',\n",
       "  'Price': 750},\n",
       " 1002: {'Name': 'KitKat',\n",
       "  'Quntity': 52,\n",
       "  'Manuf_data': '02aug2020',\n",
       "  'Exp_data': '10oct2021',\n",
       "  'Price': 50},\n",
       " 1003: {'Name': 'Milk',\n",
       "  'Quntity': 10,\n",
       "  'Manuf_data': '01aug2020',\n",
       "  'Exp_data': '11oct2021',\n",
       "  'Price': 60},\n",
       " 1004: {'Name': 'Rice',\n",
       "  'Quntity': 90,\n",
       "  'Manuf_data': '06aug2020',\n",
       "  'Exp_data': '17oct2021',\n",
       "  'Price': 500},\n",
       " 1005: {'Name': 'Daal',\n",
       "  'Quntity': 70,\n",
       "  'Manuf_data': '07aug2020',\n",
       "  'Exp_data': '10oct2021',\n",
       "  'Price': 320},\n",
       " 1006: {'Name': 'Cornflore',\n",
       "  'Quntity': 50,\n",
       "  'Manuf_data': '12aug2020',\n",
       "  'Exp_data': '10oct2021',\n",
       "  'Price': 79},\n",
       " 1007: {'Name': 'Protin',\n",
       "  'Quntity': 30,\n",
       "  'Manuf_data': '22aug2020',\n",
       "  'Exp_data': '10oct2022',\n",
       "  'Price': 90},\n",
       " 1008: {'Name': 'Allmond Oil',\n",
       "  'Quntity': 10,\n",
       "  'Manuf_data': '21aug2020',\n",
       "  'Exp_data': '14oct2022',\n",
       "  'Price': 190},\n",
       " 1009: {'Name': 'Sugar',\n",
       "  'Quntity': 100,\n",
       "  'Manuf_data': '23aug2020',\n",
       "  'Exp_data': '10oct2022',\n",
       "  'Price': 60},\n",
       " 1010: {'Name': 'Bread',\n",
       "  'Quntity': 55,\n",
       "  'Manuf_data': '01aug2021',\n",
       "  'Exp_data': '03aug2021',\n",
       "  'Price': 70},\n",
       " 1011: {'Name': 'Peenut',\n",
       "  'Quntity': 100,\n",
       "  'Manuf_data': '12aug2020',\n",
       "  'Exp_data': '11oct2022',\n",
       "  'Price': 390},\n",
       " 1012: {'Name': 'Amul Chees',\n",
       "  'Quntity': 50,\n",
       "  'Manuf_data': '10aug2020',\n",
       "  'Exp_data': '03oct2021',\n",
       "  'Price': 150},\n",
       " 1013: {'Name': 'Muslii',\n",
       "  'Quntity': 52,\n",
       "  'Manuf_data': '02aug2020',\n",
       "  'Exp_data': '10oct2021',\n",
       "  'Price': 650},\n",
       " 1014: {'Name': 'Maggi',\n",
       "  'Quntity': 10,\n",
       "  'Manuf_data': '01aug2020',\n",
       "  'Exp_data': '11oct2021',\n",
       "  'Price': 60},\n",
       " 1015: {'Name': 'oats',\n",
       "  'Quntity': 80,\n",
       "  'Manuf_data': '02aug2020',\n",
       "  'Exp_data': '17oct2021',\n",
       "  'Price': 340},\n",
       " 1016: {'Name': 'Daal',\n",
       "  'Quntity': 70,\n",
       "  'Manuf_data': '07aug2020',\n",
       "  'Exp_data': '10oct2021',\n",
       "  'Price': 320},\n",
       " 1017: {'Name': 'Corn',\n",
       "  'Quntity': 50,\n",
       "  'Manuf_data': '12aug2020',\n",
       "  'Exp_data': '10oct2021',\n",
       "  'Price': 79},\n",
       " 1018: {'Name': 'Meat Masala',\n",
       "  'Quntity': 30,\n",
       "  'Manuf_data': '22aug2020',\n",
       "  'Exp_data': '10oct2022',\n",
       "  'Price': 90},\n",
       " 1019: {'Name': 'Sampoo',\n",
       "  'Quntity': 500,\n",
       "  'Manuf_data': '21aug2020',\n",
       "  'Exp_data': '14oct2022',\n",
       "  'Price': 190},\n",
       " 1020: {'Name': 'Colgate',\n",
       "  'Quntity': 700,\n",
       "  'Manuf_data': '23aug2020',\n",
       "  'Exp_data': '10oct2022',\n",
       "  'Price': 60},\n",
       " 1021: {'Name': 'Panneer',\n",
       "  'Quntity': 300,\n",
       "  'Manuf_data': '01aug2021',\n",
       "  'Exp_data': '03aug2021',\n",
       "  'Price': 370},\n",
       " 1022: {'Name': 'Peenut',\n",
       "  'Quntity': 100,\n",
       "  'Manuf_data': '12aug2020',\n",
       "  'Exp_data': '11oct2022',\n",
       "  'Price': 390},\n",
       " 1023: {'Name': 'Namkeen',\n",
       "  'Quntity': 88,\n",
       "  'Manuf_data': '11aug2020',\n",
       "  'Exp_data': '13oct2021',\n",
       "  'Price': 110},\n",
       " 1024: {'Name': 'Milk Powder',\n",
       "  'Quntity': 100,\n",
       "  'Manuf_data': '01aug2020',\n",
       "  'Exp_data': '11oct2021',\n",
       "  'Price': 60},\n",
       " 1025: {'Name': 'Pasta',\n",
       "  'Quntity': 90,\n",
       "  'Manuf_data': '06aug2020',\n",
       "  'Exp_data': '17oct2021',\n",
       "  'Price': 500},\n",
       " 1026: {'Name': 'Tomato Kactup',\n",
       "  'Quntity': 70,\n",
       "  'Manuf_data': '07aug2020',\n",
       "  'Exp_data': '10oct2021',\n",
       "  'Price': 2},\n",
       " 1027: {'Name': 'Egg',\n",
       "  'Quntity': 500,\n",
       "  'Manuf_data': '12aug2021',\n",
       "  'Exp_data': '10oct2021',\n",
       "  'Price': 10},\n",
       " 1028: {'Name': 'Green tea',\n",
       "  'Quntity': 300,\n",
       "  'Manuf_data': '22aug2021',\n",
       "  'Exp_data': '15oct2022',\n",
       "  'Price': 450},\n",
       " 1029: {'Name': 'Noodels',\n",
       "  'Quntity': 70,\n",
       "  'Manuf_data': '02aug2020',\n",
       "  'Exp_data': '10oct2022',\n",
       "  'Price': 150},\n",
       " 1030: {'Name': 'Boost',\n",
       "  'Quntity': 100,\n",
       "  'Manuf_data': '28aug2020',\n",
       "  'Exp_data': '24oct2022',\n",
       "  'Price': 190}}"
      ]
     },
     "execution_count": 70,
     "metadata": {},
     "output_type": "execute_result"
    }
   ],
   "source": [
    "#Now you check the new list\n",
    "Item"
   ]
  },
  {
   "cell_type": "markdown",
   "metadata": {},
   "source": [
    "To check your update item with Item_id"
   ]
  },
  {
   "cell_type": "code",
   "execution_count": null,
   "metadata": {},
   "outputs": [],
   "source": [
    "Item_ID = int(input(\"Enter the ID of product: \"))\n",
    "\n",
    "print(\"Name of product :\" ,Item[Item_ID]['Name'])\n",
    "print(\"NO. of Quntity :\" , Item[Item_ID]['Quntity'])\n",
    "print(\"Price per_piece:\" , Item[Item_ID]['Price'])\n",
    "print(\"Mnf_data:\",Item[Item_ID]['Manuf_data'] )\n",
    "print(\"Exp_data:\",Item[Item_ID]['Exp_data'] )"
   ]
  },
  {
   "cell_type": "code",
   "execution_count": 71,
   "metadata": {},
   "outputs": [],
   "source": [
    "import json"
   ]
  },
  {
   "cell_type": "code",
   "execution_count": 73,
   "metadata": {},
   "outputs": [],
   "source": [
    "js = json.dumps(Item)"
   ]
  },
  {
   "cell_type": "code",
   "execution_count": 74,
   "metadata": {
    "collapsed": true,
    "jupyter": {
     "outputs_hidden": true
    }
   },
   "outputs": [
    {
     "data": {
      "text/plain": [
       "'{\"1001\": {\"Name\": \"Amul Ghee\", \"Quntity\": 5, \"Manuf_data\": \"10aug2020\", \"Exp_data\": \"03oct2021\", \"Price\": 750}, \"1002\": {\"Name\": \"KitKat\", \"Quntity\": 52, \"Manuf_data\": \"02aug2020\", \"Exp_data\": \"10oct2021\", \"Price\": 50}, \"1003\": {\"Name\": \"Milk\", \"Quntity\": 10, \"Manuf_data\": \"01aug2020\", \"Exp_data\": \"11oct2021\", \"Price\": 60}, \"1004\": {\"Name\": \"Rice\", \"Quntity\": 90, \"Manuf_data\": \"06aug2020\", \"Exp_data\": \"17oct2021\", \"Price\": 500}, \"1005\": {\"Name\": \"Daal\", \"Quntity\": 70, \"Manuf_data\": \"07aug2020\", \"Exp_data\": \"10oct2021\", \"Price\": 320}, \"1006\": {\"Name\": \"Cornflore\", \"Quntity\": 50, \"Manuf_data\": \"12aug2020\", \"Exp_data\": \"10oct2021\", \"Price\": 79}, \"1007\": {\"Name\": \"Protin\", \"Quntity\": 30, \"Manuf_data\": \"22aug2020\", \"Exp_data\": \"10oct2022\", \"Price\": 90}, \"1008\": {\"Name\": \"Allmond Oil\", \"Quntity\": 10, \"Manuf_data\": \"21aug2020\", \"Exp_data\": \"14oct2022\", \"Price\": 190}, \"1009\": {\"Name\": \"Sugar\", \"Quntity\": 100, \"Manuf_data\": \"23aug2020\", \"Exp_data\": \"10oct2022\", \"Price\": 60}, \"1010\": {\"Name\": \"Bread\", \"Quntity\": 55, \"Manuf_data\": \"01aug2021\", \"Exp_data\": \"03aug2021\", \"Price\": 70}, \"1011\": {\"Name\": \"Peenut\", \"Quntity\": 100, \"Manuf_data\": \"12aug2020\", \"Exp_data\": \"11oct2022\", \"Price\": 390}, \"1012\": {\"Name\": \"Amul Chees\", \"Quntity\": 50, \"Manuf_data\": \"10aug2020\", \"Exp_data\": \"03oct2021\", \"Price\": 150}, \"1013\": {\"Name\": \"Muslii\", \"Quntity\": 52, \"Manuf_data\": \"02aug2020\", \"Exp_data\": \"10oct2021\", \"Price\": 650}, \"1014\": {\"Name\": \"Maggi\", \"Quntity\": 10, \"Manuf_data\": \"01aug2020\", \"Exp_data\": \"11oct2021\", \"Price\": 60}, \"1015\": {\"Name\": \"oats\", \"Quntity\": 80, \"Manuf_data\": \"02aug2020\", \"Exp_data\": \"17oct2021\", \"Price\": 340}, \"1016\": {\"Name\": \"Daal\", \"Quntity\": 70, \"Manuf_data\": \"07aug2020\", \"Exp_data\": \"10oct2021\", \"Price\": 320}, \"1017\": {\"Name\": \"Corn\", \"Quntity\": 50, \"Manuf_data\": \"12aug2020\", \"Exp_data\": \"10oct2021\", \"Price\": 79}, \"1018\": {\"Name\": \"Meat Masala\", \"Quntity\": 30, \"Manuf_data\": \"22aug2020\", \"Exp_data\": \"10oct2022\", \"Price\": 90}, \"1019\": {\"Name\": \"Sampoo\", \"Quntity\": 500, \"Manuf_data\": \"21aug2020\", \"Exp_data\": \"14oct2022\", \"Price\": 190}, \"1020\": {\"Name\": \"Colgate\", \"Quntity\": 700, \"Manuf_data\": \"23aug2020\", \"Exp_data\": \"10oct2022\", \"Price\": 60}, \"1021\": {\"Name\": \"Panneer\", \"Quntity\": 300, \"Manuf_data\": \"01aug2021\", \"Exp_data\": \"03aug2021\", \"Price\": 370}, \"1022\": {\"Name\": \"Peenut\", \"Quntity\": 100, \"Manuf_data\": \"12aug2020\", \"Exp_data\": \"11oct2022\", \"Price\": 390}, \"1023\": {\"Name\": \"Namkeen\", \"Quntity\": 88, \"Manuf_data\": \"11aug2020\", \"Exp_data\": \"13oct2021\", \"Price\": 110}, \"1024\": {\"Name\": \"Milk Powder\", \"Quntity\": 100, \"Manuf_data\": \"01aug2020\", \"Exp_data\": \"11oct2021\", \"Price\": 60}, \"1025\": {\"Name\": \"Pasta\", \"Quntity\": 90, \"Manuf_data\": \"06aug2020\", \"Exp_data\": \"17oct2021\", \"Price\": 500}, \"1026\": {\"Name\": \"Tomato Kactup\", \"Quntity\": 70, \"Manuf_data\": \"07aug2020\", \"Exp_data\": \"10oct2021\", \"Price\": 2}, \"1027\": {\"Name\": \"Egg\", \"Quntity\": 500, \"Manuf_data\": \"12aug2021\", \"Exp_data\": \"10oct2021\", \"Price\": 10}, \"1028\": {\"Name\": \"Green tea\", \"Quntity\": 300, \"Manuf_data\": \"22aug2021\", \"Exp_data\": \"15oct2022\", \"Price\": 450}, \"1029\": {\"Name\": \"Noodels\", \"Quntity\": 70, \"Manuf_data\": \"02aug2020\", \"Exp_data\": \"10oct2022\", \"Price\": 150}, \"1030\": {\"Name\": \"Boost\", \"Quntity\": 100, \"Manuf_data\": \"28aug2020\", \"Exp_data\": \"24oct2022\", \"Price\": 190}}'"
      ]
     },
     "execution_count": 74,
     "metadata": {},
     "output_type": "execute_result"
    }
   ],
   "source": [
    "js"
   ]
  },
  {
   "cell_type": "code",
   "execution_count": 75,
   "metadata": {
    "collapsed": true,
    "jupyter": {
     "outputs_hidden": true
    }
   },
   "outputs": [
    {
     "data": {
      "text/plain": [
       "{1001: {'Name': 'Amul Ghee',\n",
       "  'Quntity': 5,\n",
       "  'Manuf_data': '10aug2020',\n",
       "  'Exp_data': '03oct2021',\n",
       "  'Price': 750},\n",
       " 1002: {'Name': 'KitKat',\n",
       "  'Quntity': 52,\n",
       "  'Manuf_data': '02aug2020',\n",
       "  'Exp_data': '10oct2021',\n",
       "  'Price': 50},\n",
       " 1003: {'Name': 'Milk',\n",
       "  'Quntity': 10,\n",
       "  'Manuf_data': '01aug2020',\n",
       "  'Exp_data': '11oct2021',\n",
       "  'Price': 60},\n",
       " 1004: {'Name': 'Rice',\n",
       "  'Quntity': 90,\n",
       "  'Manuf_data': '06aug2020',\n",
       "  'Exp_data': '17oct2021',\n",
       "  'Price': 500},\n",
       " 1005: {'Name': 'Daal',\n",
       "  'Quntity': 70,\n",
       "  'Manuf_data': '07aug2020',\n",
       "  'Exp_data': '10oct2021',\n",
       "  'Price': 320},\n",
       " 1006: {'Name': 'Cornflore',\n",
       "  'Quntity': 50,\n",
       "  'Manuf_data': '12aug2020',\n",
       "  'Exp_data': '10oct2021',\n",
       "  'Price': 79},\n",
       " 1007: {'Name': 'Protin',\n",
       "  'Quntity': 30,\n",
       "  'Manuf_data': '22aug2020',\n",
       "  'Exp_data': '10oct2022',\n",
       "  'Price': 90},\n",
       " 1008: {'Name': 'Allmond Oil',\n",
       "  'Quntity': 10,\n",
       "  'Manuf_data': '21aug2020',\n",
       "  'Exp_data': '14oct2022',\n",
       "  'Price': 190},\n",
       " 1009: {'Name': 'Sugar',\n",
       "  'Quntity': 100,\n",
       "  'Manuf_data': '23aug2020',\n",
       "  'Exp_data': '10oct2022',\n",
       "  'Price': 60},\n",
       " 1010: {'Name': 'Bread',\n",
       "  'Quntity': 55,\n",
       "  'Manuf_data': '01aug2021',\n",
       "  'Exp_data': '03aug2021',\n",
       "  'Price': 70},\n",
       " 1011: {'Name': 'Peenut',\n",
       "  'Quntity': 100,\n",
       "  'Manuf_data': '12aug2020',\n",
       "  'Exp_data': '11oct2022',\n",
       "  'Price': 390},\n",
       " 1012: {'Name': 'Amul Chees',\n",
       "  'Quntity': 50,\n",
       "  'Manuf_data': '10aug2020',\n",
       "  'Exp_data': '03oct2021',\n",
       "  'Price': 150},\n",
       " 1013: {'Name': 'Muslii',\n",
       "  'Quntity': 52,\n",
       "  'Manuf_data': '02aug2020',\n",
       "  'Exp_data': '10oct2021',\n",
       "  'Price': 650},\n",
       " 1014: {'Name': 'Maggi',\n",
       "  'Quntity': 10,\n",
       "  'Manuf_data': '01aug2020',\n",
       "  'Exp_data': '11oct2021',\n",
       "  'Price': 60},\n",
       " 1015: {'Name': 'oats',\n",
       "  'Quntity': 80,\n",
       "  'Manuf_data': '02aug2020',\n",
       "  'Exp_data': '17oct2021',\n",
       "  'Price': 340},\n",
       " 1016: {'Name': 'Daal',\n",
       "  'Quntity': 70,\n",
       "  'Manuf_data': '07aug2020',\n",
       "  'Exp_data': '10oct2021',\n",
       "  'Price': 320},\n",
       " 1017: {'Name': 'Corn',\n",
       "  'Quntity': 50,\n",
       "  'Manuf_data': '12aug2020',\n",
       "  'Exp_data': '10oct2021',\n",
       "  'Price': 79},\n",
       " 1018: {'Name': 'Meat Masala',\n",
       "  'Quntity': 30,\n",
       "  'Manuf_data': '22aug2020',\n",
       "  'Exp_data': '10oct2022',\n",
       "  'Price': 90},\n",
       " 1019: {'Name': 'Sampoo',\n",
       "  'Quntity': 500,\n",
       "  'Manuf_data': '21aug2020',\n",
       "  'Exp_data': '14oct2022',\n",
       "  'Price': 190},\n",
       " 1020: {'Name': 'Colgate',\n",
       "  'Quntity': 700,\n",
       "  'Manuf_data': '23aug2020',\n",
       "  'Exp_data': '10oct2022',\n",
       "  'Price': 60},\n",
       " 1021: {'Name': 'Panneer',\n",
       "  'Quntity': 300,\n",
       "  'Manuf_data': '01aug2021',\n",
       "  'Exp_data': '03aug2021',\n",
       "  'Price': 370},\n",
       " 1022: {'Name': 'Peenut',\n",
       "  'Quntity': 100,\n",
       "  'Manuf_data': '12aug2020',\n",
       "  'Exp_data': '11oct2022',\n",
       "  'Price': 390},\n",
       " 1023: {'Name': 'Namkeen',\n",
       "  'Quntity': 88,\n",
       "  'Manuf_data': '11aug2020',\n",
       "  'Exp_data': '13oct2021',\n",
       "  'Price': 110},\n",
       " 1024: {'Name': 'Milk Powder',\n",
       "  'Quntity': 100,\n",
       "  'Manuf_data': '01aug2020',\n",
       "  'Exp_data': '11oct2021',\n",
       "  'Price': 60},\n",
       " 1025: {'Name': 'Pasta',\n",
       "  'Quntity': 90,\n",
       "  'Manuf_data': '06aug2020',\n",
       "  'Exp_data': '17oct2021',\n",
       "  'Price': 500},\n",
       " 1026: {'Name': 'Tomato Kactup',\n",
       "  'Quntity': 70,\n",
       "  'Manuf_data': '07aug2020',\n",
       "  'Exp_data': '10oct2021',\n",
       "  'Price': 2},\n",
       " 1027: {'Name': 'Egg',\n",
       "  'Quntity': 500,\n",
       "  'Manuf_data': '12aug2021',\n",
       "  'Exp_data': '10oct2021',\n",
       "  'Price': 10},\n",
       " 1028: {'Name': 'Green tea',\n",
       "  'Quntity': 300,\n",
       "  'Manuf_data': '22aug2021',\n",
       "  'Exp_data': '15oct2022',\n",
       "  'Price': 450},\n",
       " 1029: {'Name': 'Noodels',\n",
       "  'Quntity': 70,\n",
       "  'Manuf_data': '02aug2020',\n",
       "  'Exp_data': '10oct2022',\n",
       "  'Price': 150},\n",
       " 1030: {'Name': 'Boost',\n",
       "  'Quntity': 100,\n",
       "  'Manuf_data': '28aug2020',\n",
       "  'Exp_data': '24oct2022',\n",
       "  'Price': 190}}"
      ]
     },
     "execution_count": 75,
     "metadata": {},
     "output_type": "execute_result"
    }
   ],
   "source": [
    "Item"
   ]
  },
  {
   "cell_type": "markdown",
   "metadata": {},
   "source": [
    "File handling"
   ]
  },
  {
   "cell_type": "code",
   "execution_count": 78,
   "metadata": {},
   "outputs": [],
   "source": [
    "data = open(\"Item.json\", 'w')\n",
    "data.write(js)\n",
    "data.close()"
   ]
  },
  {
   "cell_type": "code",
   "execution_count": 79,
   "metadata": {},
   "outputs": [],
   "source": [
    "data = open(\"Item.json\", 'r')\n",
    "text = data.read()\n",
    "data.close()"
   ]
  },
  {
   "cell_type": "code",
   "execution_count": 80,
   "metadata": {
    "collapsed": true,
    "jupyter": {
     "outputs_hidden": true
    }
   },
   "outputs": [
    {
     "data": {
      "text/plain": [
       "'{\"1001\": {\"Name\": \"Amul Ghee\", \"Quntity\": 5, \"Manuf_data\": \"10aug2020\", \"Exp_data\": \"03oct2021\", \"Price\": 750}, \"1002\": {\"Name\": \"KitKat\", \"Quntity\": 52, \"Manuf_data\": \"02aug2020\", \"Exp_data\": \"10oct2021\", \"Price\": 50}, \"1003\": {\"Name\": \"Milk\", \"Quntity\": 10, \"Manuf_data\": \"01aug2020\", \"Exp_data\": \"11oct2021\", \"Price\": 60}, \"1004\": {\"Name\": \"Rice\", \"Quntity\": 90, \"Manuf_data\": \"06aug2020\", \"Exp_data\": \"17oct2021\", \"Price\": 500}, \"1005\": {\"Name\": \"Daal\", \"Quntity\": 70, \"Manuf_data\": \"07aug2020\", \"Exp_data\": \"10oct2021\", \"Price\": 320}, \"1006\": {\"Name\": \"Cornflore\", \"Quntity\": 50, \"Manuf_data\": \"12aug2020\", \"Exp_data\": \"10oct2021\", \"Price\": 79}, \"1007\": {\"Name\": \"Protin\", \"Quntity\": 30, \"Manuf_data\": \"22aug2020\", \"Exp_data\": \"10oct2022\", \"Price\": 90}, \"1008\": {\"Name\": \"Allmond Oil\", \"Quntity\": 10, \"Manuf_data\": \"21aug2020\", \"Exp_data\": \"14oct2022\", \"Price\": 190}, \"1009\": {\"Name\": \"Sugar\", \"Quntity\": 100, \"Manuf_data\": \"23aug2020\", \"Exp_data\": \"10oct2022\", \"Price\": 60}, \"1010\": {\"Name\": \"Bread\", \"Quntity\": 55, \"Manuf_data\": \"01aug2021\", \"Exp_data\": \"03aug2021\", \"Price\": 70}, \"1011\": {\"Name\": \"Peenut\", \"Quntity\": 100, \"Manuf_data\": \"12aug2020\", \"Exp_data\": \"11oct2022\", \"Price\": 390}, \"1012\": {\"Name\": \"Amul Chees\", \"Quntity\": 50, \"Manuf_data\": \"10aug2020\", \"Exp_data\": \"03oct2021\", \"Price\": 150}, \"1013\": {\"Name\": \"Muslii\", \"Quntity\": 52, \"Manuf_data\": \"02aug2020\", \"Exp_data\": \"10oct2021\", \"Price\": 650}, \"1014\": {\"Name\": \"Maggi\", \"Quntity\": 10, \"Manuf_data\": \"01aug2020\", \"Exp_data\": \"11oct2021\", \"Price\": 60}, \"1015\": {\"Name\": \"oats\", \"Quntity\": 80, \"Manuf_data\": \"02aug2020\", \"Exp_data\": \"17oct2021\", \"Price\": 340}, \"1016\": {\"Name\": \"Daal\", \"Quntity\": 70, \"Manuf_data\": \"07aug2020\", \"Exp_data\": \"10oct2021\", \"Price\": 320}, \"1017\": {\"Name\": \"Corn\", \"Quntity\": 50, \"Manuf_data\": \"12aug2020\", \"Exp_data\": \"10oct2021\", \"Price\": 79}, \"1018\": {\"Name\": \"Meat Masala\", \"Quntity\": 30, \"Manuf_data\": \"22aug2020\", \"Exp_data\": \"10oct2022\", \"Price\": 90}, \"1019\": {\"Name\": \"Sampoo\", \"Quntity\": 500, \"Manuf_data\": \"21aug2020\", \"Exp_data\": \"14oct2022\", \"Price\": 190}, \"1020\": {\"Name\": \"Colgate\", \"Quntity\": 700, \"Manuf_data\": \"23aug2020\", \"Exp_data\": \"10oct2022\", \"Price\": 60}, \"1021\": {\"Name\": \"Panneer\", \"Quntity\": 300, \"Manuf_data\": \"01aug2021\", \"Exp_data\": \"03aug2021\", \"Price\": 370}, \"1022\": {\"Name\": \"Peenut\", \"Quntity\": 100, \"Manuf_data\": \"12aug2020\", \"Exp_data\": \"11oct2022\", \"Price\": 390}, \"1023\": {\"Name\": \"Namkeen\", \"Quntity\": 88, \"Manuf_data\": \"11aug2020\", \"Exp_data\": \"13oct2021\", \"Price\": 110}, \"1024\": {\"Name\": \"Milk Powder\", \"Quntity\": 100, \"Manuf_data\": \"01aug2020\", \"Exp_data\": \"11oct2021\", \"Price\": 60}, \"1025\": {\"Name\": \"Pasta\", \"Quntity\": 90, \"Manuf_data\": \"06aug2020\", \"Exp_data\": \"17oct2021\", \"Price\": 500}, \"1026\": {\"Name\": \"Tomato Kactup\", \"Quntity\": 70, \"Manuf_data\": \"07aug2020\", \"Exp_data\": \"10oct2021\", \"Price\": 2}, \"1027\": {\"Name\": \"Egg\", \"Quntity\": 500, \"Manuf_data\": \"12aug2021\", \"Exp_data\": \"10oct2021\", \"Price\": 10}, \"1028\": {\"Name\": \"Green tea\", \"Quntity\": 300, \"Manuf_data\": \"22aug2021\", \"Exp_data\": \"15oct2022\", \"Price\": 450}, \"1029\": {\"Name\": \"Noodels\", \"Quntity\": 70, \"Manuf_data\": \"02aug2020\", \"Exp_data\": \"10oct2022\", \"Price\": 150}, \"1030\": {\"Name\": \"Boost\", \"Quntity\": 100, \"Manuf_data\": \"28aug2020\", \"Exp_data\": \"24oct2022\", \"Price\": 190}}'"
      ]
     },
     "execution_count": 80,
     "metadata": {},
     "output_type": "execute_result"
    }
   ],
   "source": [
    "text"
   ]
  },
  {
   "cell_type": "markdown",
   "metadata": {},
   "source": [
    "Again convert the str into dic"
   ]
  },
  {
   "cell_type": "code",
   "execution_count": 81,
   "metadata": {},
   "outputs": [],
   "source": [
    "record = json.loads(text)"
   ]
  },
  {
   "cell_type": "code",
   "execution_count": 82,
   "metadata": {
    "collapsed": true,
    "jupyter": {
     "outputs_hidden": true
    }
   },
   "outputs": [
    {
     "data": {
      "text/plain": [
       "{'1001': {'Name': 'Amul Ghee',\n",
       "  'Quntity': 5,\n",
       "  'Manuf_data': '10aug2020',\n",
       "  'Exp_data': '03oct2021',\n",
       "  'Price': 750},\n",
       " '1002': {'Name': 'KitKat',\n",
       "  'Quntity': 52,\n",
       "  'Manuf_data': '02aug2020',\n",
       "  'Exp_data': '10oct2021',\n",
       "  'Price': 50},\n",
       " '1003': {'Name': 'Milk',\n",
       "  'Quntity': 10,\n",
       "  'Manuf_data': '01aug2020',\n",
       "  'Exp_data': '11oct2021',\n",
       "  'Price': 60},\n",
       " '1004': {'Name': 'Rice',\n",
       "  'Quntity': 90,\n",
       "  'Manuf_data': '06aug2020',\n",
       "  'Exp_data': '17oct2021',\n",
       "  'Price': 500},\n",
       " '1005': {'Name': 'Daal',\n",
       "  'Quntity': 70,\n",
       "  'Manuf_data': '07aug2020',\n",
       "  'Exp_data': '10oct2021',\n",
       "  'Price': 320},\n",
       " '1006': {'Name': 'Cornflore',\n",
       "  'Quntity': 50,\n",
       "  'Manuf_data': '12aug2020',\n",
       "  'Exp_data': '10oct2021',\n",
       "  'Price': 79},\n",
       " '1007': {'Name': 'Protin',\n",
       "  'Quntity': 30,\n",
       "  'Manuf_data': '22aug2020',\n",
       "  'Exp_data': '10oct2022',\n",
       "  'Price': 90},\n",
       " '1008': {'Name': 'Allmond Oil',\n",
       "  'Quntity': 10,\n",
       "  'Manuf_data': '21aug2020',\n",
       "  'Exp_data': '14oct2022',\n",
       "  'Price': 190},\n",
       " '1009': {'Name': 'Sugar',\n",
       "  'Quntity': 100,\n",
       "  'Manuf_data': '23aug2020',\n",
       "  'Exp_data': '10oct2022',\n",
       "  'Price': 60},\n",
       " '1010': {'Name': 'Bread',\n",
       "  'Quntity': 55,\n",
       "  'Manuf_data': '01aug2021',\n",
       "  'Exp_data': '03aug2021',\n",
       "  'Price': 70},\n",
       " '1011': {'Name': 'Peenut',\n",
       "  'Quntity': 100,\n",
       "  'Manuf_data': '12aug2020',\n",
       "  'Exp_data': '11oct2022',\n",
       "  'Price': 390},\n",
       " '1012': {'Name': 'Amul Chees',\n",
       "  'Quntity': 50,\n",
       "  'Manuf_data': '10aug2020',\n",
       "  'Exp_data': '03oct2021',\n",
       "  'Price': 150},\n",
       " '1013': {'Name': 'Muslii',\n",
       "  'Quntity': 52,\n",
       "  'Manuf_data': '02aug2020',\n",
       "  'Exp_data': '10oct2021',\n",
       "  'Price': 650},\n",
       " '1014': {'Name': 'Maggi',\n",
       "  'Quntity': 10,\n",
       "  'Manuf_data': '01aug2020',\n",
       "  'Exp_data': '11oct2021',\n",
       "  'Price': 60},\n",
       " '1015': {'Name': 'oats',\n",
       "  'Quntity': 80,\n",
       "  'Manuf_data': '02aug2020',\n",
       "  'Exp_data': '17oct2021',\n",
       "  'Price': 340},\n",
       " '1016': {'Name': 'Daal',\n",
       "  'Quntity': 70,\n",
       "  'Manuf_data': '07aug2020',\n",
       "  'Exp_data': '10oct2021',\n",
       "  'Price': 320},\n",
       " '1017': {'Name': 'Corn',\n",
       "  'Quntity': 50,\n",
       "  'Manuf_data': '12aug2020',\n",
       "  'Exp_data': '10oct2021',\n",
       "  'Price': 79},\n",
       " '1018': {'Name': 'Meat Masala',\n",
       "  'Quntity': 30,\n",
       "  'Manuf_data': '22aug2020',\n",
       "  'Exp_data': '10oct2022',\n",
       "  'Price': 90},\n",
       " '1019': {'Name': 'Sampoo',\n",
       "  'Quntity': 500,\n",
       "  'Manuf_data': '21aug2020',\n",
       "  'Exp_data': '14oct2022',\n",
       "  'Price': 190},\n",
       " '1020': {'Name': 'Colgate',\n",
       "  'Quntity': 700,\n",
       "  'Manuf_data': '23aug2020',\n",
       "  'Exp_data': '10oct2022',\n",
       "  'Price': 60},\n",
       " '1021': {'Name': 'Panneer',\n",
       "  'Quntity': 300,\n",
       "  'Manuf_data': '01aug2021',\n",
       "  'Exp_data': '03aug2021',\n",
       "  'Price': 370},\n",
       " '1022': {'Name': 'Peenut',\n",
       "  'Quntity': 100,\n",
       "  'Manuf_data': '12aug2020',\n",
       "  'Exp_data': '11oct2022',\n",
       "  'Price': 390},\n",
       " '1023': {'Name': 'Namkeen',\n",
       "  'Quntity': 88,\n",
       "  'Manuf_data': '11aug2020',\n",
       "  'Exp_data': '13oct2021',\n",
       "  'Price': 110},\n",
       " '1024': {'Name': 'Milk Powder',\n",
       "  'Quntity': 100,\n",
       "  'Manuf_data': '01aug2020',\n",
       "  'Exp_data': '11oct2021',\n",
       "  'Price': 60},\n",
       " '1025': {'Name': 'Pasta',\n",
       "  'Quntity': 90,\n",
       "  'Manuf_data': '06aug2020',\n",
       "  'Exp_data': '17oct2021',\n",
       "  'Price': 500},\n",
       " '1026': {'Name': 'Tomato Kactup',\n",
       "  'Quntity': 70,\n",
       "  'Manuf_data': '07aug2020',\n",
       "  'Exp_data': '10oct2021',\n",
       "  'Price': 2},\n",
       " '1027': {'Name': 'Egg',\n",
       "  'Quntity': 500,\n",
       "  'Manuf_data': '12aug2021',\n",
       "  'Exp_data': '10oct2021',\n",
       "  'Price': 10},\n",
       " '1028': {'Name': 'Green tea',\n",
       "  'Quntity': 300,\n",
       "  'Manuf_data': '22aug2021',\n",
       "  'Exp_data': '15oct2022',\n",
       "  'Price': 450},\n",
       " '1029': {'Name': 'Noodels',\n",
       "  'Quntity': 70,\n",
       "  'Manuf_data': '02aug2020',\n",
       "  'Exp_data': '10oct2022',\n",
       "  'Price': 150},\n",
       " '1030': {'Name': 'Boost',\n",
       "  'Quntity': 100,\n",
       "  'Manuf_data': '28aug2020',\n",
       "  'Exp_data': '24oct2022',\n",
       "  'Price': 190}}"
      ]
     },
     "execution_count": 82,
     "metadata": {},
     "output_type": "execute_result"
    }
   ],
   "source": [
    "record"
   ]
  },
  {
   "cell_type": "code",
   "execution_count": null,
   "metadata": {},
   "outputs": [],
   "source": []
  }
 ],
 "metadata": {
  "kernelspec": {
   "display_name": "Python 3",
   "language": "python",
   "name": "python3"
  },
  "language_info": {
   "codemirror_mode": {
    "name": "ipython",
    "version": 3
   },
   "file_extension": ".py",
   "mimetype": "text/x-python",
   "name": "python",
   "nbconvert_exporter": "python",
   "pygments_lexer": "ipython3",
   "version": "3.8.5"
  }
 },
 "nbformat": 4,
 "nbformat_minor": 4
}
