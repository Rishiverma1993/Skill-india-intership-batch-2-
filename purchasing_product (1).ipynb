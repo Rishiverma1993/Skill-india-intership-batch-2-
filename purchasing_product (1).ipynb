{
  "nbformat": 4,
  "nbformat_minor": 0,
  "metadata": {
    "colab": {
      "name": "purchasing product.ipynb",
      "provenance": [],
      "collapsed_sections": []
    },
    "kernelspec": {
      "name": "python3",
      "display_name": "Python 3"
    },
    "language_info": {
      "name": "python"
    }
  },
  "cells": [
    {
      "cell_type": "markdown",
      "metadata": {
        "id": "5Yj8sPWUC_Zi"
      },
      "source": [
        "# Read the Inventory of Items"
      ]
    },
    {
      "cell_type": "code",
      "metadata": {
        "id": "zGFDkjVzDF7L"
      },
      "source": [
        "import json\n",
        "\n",
        "data = open(\"record.json\", 'r')\n",
        "text = data.read()\n",
        "data.close()\n",
        "\n",
        "record = json.loads(text)"
      ],
      "execution_count": 35,
      "outputs": []
    },
    {
      "cell_type": "code",
      "metadata": {
        "id": "bJItYv5pDa8i"
      },
      "source": [
        "record"
      ],
      "execution_count": null,
      "outputs": []
    },
    {
      "cell_type": "markdown",
      "metadata": {
        "id": "5qMIjOV_D9rf"
      },
      "source": [
        "## Now ask to user what item he want and quntity also"
      ]
    },
    {
      "cell_type": "code",
      "metadata": {
        "id": "VGzyzA73Mee8",
        "colab": {
          "base_uri": "https://localhost:8080/"
        },
        "outputId": "3a8154db-5f49-4610-ab5d-a1547665084d"
      },
      "source": [
        "User_product = str(input(\"Enter the product id: \"))\n",
        "print(\"Name of the product: \",record[User_product]['Name'])\n",
        "User_quntity = int(input(\"the quntity user want: \"))\n",
        "#User_Name = str(input(\"Enter your name: \"))\n",
        "#User_Phone = str(input(\"Enter your contact no.: \"))\n",
        "#Payment_method  = str(input(\"Enter payment method(Cash\\Card): \"))\n",
        "print('*************************************************************')\n",
        "\n",
        "print(\"Name of the product: \",record[User_product]['Name'])\n",
        "print(\"Total quntity: \",record[User_product]['Quntity'])\n",
        "print(\"Price of single item: \",record[User_product]['Price'])\n",
        "\n",
        "print('*************************************************************')\n",
        "#print(\"Name of customer: \",User_Name)\n",
        "#print(\"Contact: \" ,User_Phone)\n",
        "#print(\"Mode of Payment: \" ,Payment_method)\n",
        "print(\"Product: \" ,record[User_product]['Name'])\n",
        "print(\"Quntity: \" ,User_quntity)\n",
        "print(\"billing amount: \" ,record[User_product]['Price'] * User_quntity)\n",
        "print('*************************************************************')"
      ],
      "execution_count": 109,
      "outputs": [
        {
          "output_type": "stream",
          "name": "stdout",
          "text": [
            "Enter the product id: 1029\n",
            "Name of the product:  Noodels\n",
            "the quntity user want: 2 \n",
            "*************************************************************\n",
            "Name of the product:  Noodels\n",
            "Total quntity:  70\n",
            "Price of single item:  150\n",
            "*************************************************************\n",
            "Product:  Noodels\n",
            "Quntity:  2\n",
            "billing amount:  300\n",
            "*************************************************************\n"
          ]
        }
      ]
    },
    {
      "cell_type": "markdown",
      "metadata": {
        "id": "2Sc2nqscU9jG"
      },
      "source": [
        "# Updata the record after the purchasing product"
      ]
    },
    {
      "cell_type": "code",
      "metadata": {
        "colab": {
          "base_uri": "https://localhost:8080/"
        },
        "id": "Km6IZwW5VJ8J",
        "outputId": "20ac0236-1fcd-4c49-ea8d-fcd186e8858b"
      },
      "source": [
        "print(\"Product id: \",User_product)\n",
        "print(\"Name of the product: \",record[User_product]['Name'])\n",
        "print(\"Total quntity: \",record[User_product]['Quntity'])\n",
        "\n",
        "record[User_product]['Quntity'] = record[User_product]['Quntity'] - User_quntity\n",
        "\n",
        "if (record[User_product]['Quntity']<=0):\n",
        "  print(\"Out of stock\")\n",
        "else:\n",
        "  print(\"Left Quntity: \",record[User_product]['Quntity'])"
      ],
      "execution_count": 110,
      "outputs": [
        {
          "output_type": "stream",
          "name": "stdout",
          "text": [
            "Product id:  1029\n",
            "Name of the product:  Noodels\n",
            "Total quntity:  70\n",
            "Left Quntity:  68\n"
          ]
        }
      ]
    },
    {
      "cell_type": "markdown",
      "metadata": {
        "id": "yToUwyCiVsJ0"
      },
      "source": [
        "# Check the Quntity after purchasing"
      ]
    },
    {
      "cell_type": "code",
      "metadata": {
        "id": "LIC_g2uqWYW1",
        "colab": {
          "base_uri": "https://localhost:8080/"
        },
        "outputId": "ff219d9e-b402-42ba-f538-ec95e0d58d74"
      },
      "source": [
        "record"
      ],
      "execution_count": 111,
      "outputs": [
        {
          "output_type": "execute_result",
          "data": {
            "text/plain": [
              "{'1001': {'Exp_data': '03oct2021',\n",
              "  'Manuf_data': '10aug2020',\n",
              "  'Name': 'Amul Ghee',\n",
              "  'Price': 750,\n",
              "  'Quntity': 25},\n",
              " '1002': {'Exp_data': '10oct2021',\n",
              "  'Manuf_data': '02aug2020',\n",
              "  'Name': 'KitKat',\n",
              "  'Price': 50,\n",
              "  'Quntity': 52},\n",
              " '1003': {'Exp_data': '11oct2021',\n",
              "  'Manuf_data': '01aug2020',\n",
              "  'Name': 'Milk',\n",
              "  'Price': 60,\n",
              "  'Quntity': 10},\n",
              " '1004': {'Exp_data': '17oct2021',\n",
              "  'Manuf_data': '06aug2020',\n",
              "  'Name': 'Rice',\n",
              "  'Price': 500,\n",
              "  'Quntity': 90},\n",
              " '1005': {'Exp_data': '10oct2021',\n",
              "  'Manuf_data': '07aug2020',\n",
              "  'Name': 'Daal',\n",
              "  'Price': 320,\n",
              "  'Quntity': -20},\n",
              " '1006': {'Exp_data': '10oct2021',\n",
              "  'Manuf_data': '12aug2020',\n",
              "  'Name': 'Cornflore',\n",
              "  'Price': 79,\n",
              "  'Quntity': 50},\n",
              " '1007': {'Exp_data': '10oct2022',\n",
              "  'Manuf_data': '22aug2020',\n",
              "  'Name': 'Protin',\n",
              "  'Price': 90,\n",
              "  'Quntity': 30},\n",
              " '1008': {'Exp_data': '14oct2022',\n",
              "  'Manuf_data': '21aug2020',\n",
              "  'Name': 'Allmond Oil',\n",
              "  'Price': 190,\n",
              "  'Quntity': -4},\n",
              " '1009': {'Exp_data': '10oct2022',\n",
              "  'Manuf_data': '23aug2020',\n",
              "  'Name': 'Sugar',\n",
              "  'Price': 60,\n",
              "  'Quntity': 100},\n",
              " '1010': {'Exp_data': '03aug2021',\n",
              "  'Manuf_data': '01aug2021',\n",
              "  'Name': 'Bread',\n",
              "  'Price': 70,\n",
              "  'Quntity': 30},\n",
              " '1011': {'Exp_data': '11oct2022',\n",
              "  'Manuf_data': '12aug2020',\n",
              "  'Name': 'Peenut',\n",
              "  'Price': 390,\n",
              "  'Quntity': 100},\n",
              " '1012': {'Exp_data': '03oct2021',\n",
              "  'Manuf_data': '10aug2020',\n",
              "  'Name': 'Amul Chees',\n",
              "  'Price': 150,\n",
              "  'Quntity': 50},\n",
              " '1013': {'Exp_data': '10oct2021',\n",
              "  'Manuf_data': '02aug2020',\n",
              "  'Name': 'Muslii',\n",
              "  'Price': 650,\n",
              "  'Quntity': 52},\n",
              " '1014': {'Exp_data': '11oct2021',\n",
              "  'Manuf_data': '01aug2020',\n",
              "  'Name': 'Maggi',\n",
              "  'Price': 60,\n",
              "  'Quntity': 10},\n",
              " '1015': {'Exp_data': '17oct2021',\n",
              "  'Manuf_data': '02aug2020',\n",
              "  'Name': 'oats',\n",
              "  'Price': 340,\n",
              "  'Quntity': 60},\n",
              " '1016': {'Exp_data': '10oct2021',\n",
              "  'Manuf_data': '07aug2020',\n",
              "  'Name': 'Daal',\n",
              "  'Price': 320,\n",
              "  'Quntity': 70},\n",
              " '1017': {'Exp_data': '10oct2021',\n",
              "  'Manuf_data': '12aug2020',\n",
              "  'Name': 'Corn',\n",
              "  'Price': 79,\n",
              "  'Quntity': 50},\n",
              " '1018': {'Exp_data': '10oct2022',\n",
              "  'Manuf_data': '22aug2020',\n",
              "  'Name': 'Meat Masala',\n",
              "  'Price': 90,\n",
              "  'Quntity': 30},\n",
              " '1019': {'Exp_data': '14oct2022',\n",
              "  'Manuf_data': '21aug2020',\n",
              "  'Name': 'Sampoo',\n",
              "  'Price': 190,\n",
              "  'Quntity': 500},\n",
              " '1020': {'Exp_data': '10oct2022',\n",
              "  'Manuf_data': '23aug2020',\n",
              "  'Name': 'Colgate',\n",
              "  'Price': 60,\n",
              "  'Quntity': 700},\n",
              " '1021': {'Exp_data': '03aug2021',\n",
              "  'Manuf_data': '01aug2021',\n",
              "  'Name': 'Panneer',\n",
              "  'Price': 370,\n",
              "  'Quntity': 300},\n",
              " '1022': {'Exp_data': '11oct2022',\n",
              "  'Manuf_data': '12aug2020',\n",
              "  'Name': 'Peenut',\n",
              "  'Price': 390,\n",
              "  'Quntity': 98},\n",
              " '1023': {'Exp_data': '13oct2021',\n",
              "  'Manuf_data': '11aug2020',\n",
              "  'Name': 'Namkeen',\n",
              "  'Price': 110,\n",
              "  'Quntity': 88},\n",
              " '1024': {'Exp_data': '11oct2021',\n",
              "  'Manuf_data': '01aug2020',\n",
              "  'Name': 'Milk Powder',\n",
              "  'Price': 60,\n",
              "  'Quntity': 100},\n",
              " '1025': {'Exp_data': '17oct2021',\n",
              "  'Manuf_data': '06aug2020',\n",
              "  'Name': 'Pasta',\n",
              "  'Price': 500,\n",
              "  'Quntity': 90},\n",
              " '1026': {'Exp_data': '10oct2021',\n",
              "  'Manuf_data': '07aug2020',\n",
              "  'Name': 'Tomato Kactup',\n",
              "  'Price': 2,\n",
              "  'Quntity': 70},\n",
              " '1027': {'Exp_data': '10oct2021',\n",
              "  'Manuf_data': '12aug2021',\n",
              "  'Name': 'Egg',\n",
              "  'Price': 10,\n",
              "  'Quntity': 500},\n",
              " '1028': {'Exp_data': '15oct2022',\n",
              "  'Manuf_data': '22aug2021',\n",
              "  'Name': 'Green tea',\n",
              "  'Price': 450,\n",
              "  'Quntity': 300},\n",
              " '1029': {'Exp_data': '10oct2022',\n",
              "  'Manuf_data': '02aug2020',\n",
              "  'Name': 'Noodels',\n",
              "  'Price': 150,\n",
              "  'Quntity': 68},\n",
              " '1030': {'Exp_data': '24oct2022',\n",
              "  'Manuf_data': '28aug2020',\n",
              "  'Name': 'Boost',\n",
              "  'Price': 190,\n",
              "  'Quntity': 100},\n",
              " '1031': {'Exp_data': '08aug2021',\n",
              "  'Manuf_data': '02jan2021',\n",
              "  'Name': 'Face Wash',\n",
              "  'Price': 180,\n",
              "  'Quntity': 200},\n",
              " '1032': {'Exp_data': '19sep2021',\n",
              "  'Manuf_data': '01jan2021',\n",
              "  'Name': 'Hand Wash',\n",
              "  'Price': 80,\n",
              "  'Quntity': 100},\n",
              " '1033': {'Exp_data': '10dec2022',\n",
              "  'Manuf_data': '02aug2021',\n",
              "  'Name': 'Pickel',\n",
              "  'Price': 250,\n",
              "  'Quntity': 30},\n",
              " '1034': {'Exp_data': '29dec2021',\n",
              "  'Manuf_data': '02jan2021',\n",
              "  'Name': 'Soup',\n",
              "  'Price': 25,\n",
              "  'Quntity': 80},\n",
              " '1035': {'Exp_data': '19sep2021',\n",
              "  'Manuf_data': '05april2021',\n",
              "  'Name': 'Cold drink',\n",
              "  'Price': 89,\n",
              "  'Quntity': 210},\n",
              " '1036': {'Exp_data': '22aug2021',\n",
              "  'Manuf_data': '01feb2021',\n",
              "  'Name': 'Pepper Boat',\n",
              "  'Price': 25,\n",
              "  'Quntity': 165}}"
            ]
          },
          "metadata": {},
          "execution_count": 111
        }
      ]
    },
    {
      "cell_type": "markdown",
      "metadata": {
        "id": "t_Qw2QLpW5OC"
      },
      "source": [
        "# Save the perday sell on records use json (convert text file)\n"
      ]
    },
    {
      "cell_type": "code",
      "metadata": {
        "id": "aO2xIgYHXE_Y"
      },
      "source": [
        "js = json.dumps(record)\n",
        " \n",
        "file = open(\"record.json\",'w')\n",
        "file.write(js)\n",
        "file.close()"
      ],
      "execution_count": 52,
      "outputs": []
    },
    {
      "cell_type": "markdown",
      "metadata": {
        "id": "EZybSC0oDymQ"
      },
      "source": [
        "# Seles Json\n",
        "If user purchase multiple item"
      ]
    },
    {
      "cell_type": "code",
      "metadata": {
        "id": "hRjFb4WYD2e_"
      },
      "source": [
        "Purchasing  = {1:{'Customer name':User_Name,'Contact':User_Phone,'Product':User_product ,'Name_of_product':record[User_product]['Name'],\n",
        "                  'Quntity':User_quntity, 'Amount':record[User_product]['Price'] * User_quntity}}"
      ],
      "execution_count": 53,
      "outputs": []
    },
    {
      "cell_type": "code",
      "metadata": {
        "colab": {
          "base_uri": "https://localhost:8080/"
        },
        "id": "vPD4s6sVaB6E",
        "outputId": "e6858304-390f-4bdd-e580-7c0c411319e7"
      },
      "source": [
        "Purchasing"
      ],
      "execution_count": 54,
      "outputs": [
        {
          "output_type": "execute_result",
          "data": {
            "text/plain": [
              "{1: {'Amount': 780,\n",
              "  'Contact': '8922003311',\n",
              "  'Customer name': 'Netu',\n",
              "  'Name_of_product': 'Peenut',\n",
              "  'Product': '1022',\n",
              "  'Quntity': 2}}"
            ]
          },
          "metadata": {},
          "execution_count": 54
        }
      ]
    },
    {
      "cell_type": "code",
      "metadata": {
        "colab": {
          "base_uri": "https://localhost:8080/"
        },
        "id": "k9NZNscqtZPH",
        "outputId": "8393e937-9829-4625-a627-1a576fa1a3a3"
      },
      "source": [
        "User_product = str(input(\"Enter the product id: \"))\n",
        "print(\"Name of the product: \",record[User_product]['Name'])\n",
        "User_quntity = int(input(\"the quntity user want: \"))\n",
        "\n",
        "print(\"******************Customer Detail****************************\")\n",
        "User_Name = str(input(\"Enter your name: \"))\n",
        "User_Phone = str(input(\"Enter your contact no.: \"))\n",
        "Payment_method  = str(input(\"Enter payment method(Cash\\Card): \"))\n",
        "\n",
        "print('*******************Product detail****************************')\n",
        "print(\"Name of the product: \",record[User_product]['Name'])\n",
        "print(\"Total quntity: \",record[User_product]['Quntity'])\n",
        "print(\"Price of single item: \",record[User_product]['Price'])\n",
        "\n",
        "print('*********************Billing detail************************')\n",
        "print(\"Name of customer: \",User_Name)\n",
        "print(\"Contact: \" ,User_Phone)\n",
        "print(\"Mode of Payment: \" ,Payment_method)\n",
        "print(\"Product: \" ,record[User_product]['Name'])\n",
        "print(\"Quntity: \" ,User_quntity)\n",
        "print(\"billing amount: \" ,record[User_product]['Price'] * User_quntity)\n",
        "print('*************************************************************')\n",
        "\n",
        "\n",
        "Purchasing[(len(Purchasing)+1)] = {'Customer name':User_Name,'Contact':User_Phone,'Product':User_product ,'Name_of_product':record[User_product]['Name'],\n",
        "                  'Quntity':User_quntity, 'Amount':record[User_product]['Price'] * User_quntity}"
      ],
      "execution_count": 114,
      "outputs": [
        {
          "output_type": "stream",
          "name": "stdout",
          "text": [
            "Enter the product id: 1014\n",
            "Name of the product:  Maggi\n",
            "the quntity user want: 5\n",
            "******************Customer Detail****************************\n",
            "Enter your name: Rahul\n",
            "Enter your contact no.: 88875220292\n",
            "Enter payment method(Cash\\Card): Card\n",
            "*******************Product detail****************************\n",
            "Name of the product:  Maggi\n",
            "Total quntity:  10\n",
            "Price of single item:  60\n",
            "*********************Billing detail************************\n",
            "Name of customer:  Rahul\n",
            "Contact:  88875220292\n",
            "Mode of Payment:  Card\n",
            "Product:  Maggi\n",
            "Quntity:  5\n",
            "billing amount:  300\n",
            "*************************************************************\n"
          ]
        }
      ]
    },
    {
      "cell_type": "code",
      "metadata": {
        "colab": {
          "base_uri": "https://localhost:8080/"
        },
        "id": "nlHBo7PMb_zI",
        "outputId": "5bfb174d-5950-44df-8c8e-408eaa3efcdd"
      },
      "source": [
        "Purchasing"
      ],
      "execution_count": 115,
      "outputs": [
        {
          "output_type": "execute_result",
          "data": {
            "text/plain": [
              "{1: {'Amount': 780,\n",
              "  'Contact': '8922003311',\n",
              "  'Customer name': 'Netu',\n",
              "  'Name_of_product': 'Peenut',\n",
              "  'Product': '1022',\n",
              "  'Quntity': 2},\n",
              " 2: {'Amount': 420,\n",
              "  'Contact': '8291002921',\n",
              "  'Customer name': 'Geeta',\n",
              "  'Name_of_product': 'Colgate',\n",
              "  'Product': '1020',\n",
              "  'Quntity': 7},\n",
              " 3: {'Amount': 780,\n",
              "  'Contact': '9920122022',\n",
              "  'Customer name': 'Dhoni',\n",
              "  'Name_of_product': 'Peenut',\n",
              "  'Product': '1011',\n",
              "  'Quntity': 2},\n",
              " 4: {'Amount': 160,\n",
              "  'Contact': '9100282811',\n",
              "  'Customer name': 'Pollard',\n",
              "  'Name_of_product': 'Hand Wash',\n",
              "  'Product': '1032',\n",
              "  'Quntity': 2},\n",
              " 5: {'Amount': 540,\n",
              "  'Contact': '7200182731',\n",
              "  'Customer name': 'Umang',\n",
              "  'Name_of_product': 'Face Wash',\n",
              "  'Product': '1031',\n",
              "  'Quntity': 3},\n",
              " 6: {'Amount': 780,\n",
              "  'Contact': '3288191828',\n",
              "  'Customer name': 'Tommy',\n",
              "  'Name_of_product': 'Peenut',\n",
              "  'Product': '1011',\n",
              "  'Quntity': 2},\n",
              " 7: {'Amount': 720,\n",
              "  'Contact': '8923235421',\n",
              "  'Customer name': 'Harsha',\n",
              "  'Name_of_product': 'Face Wash',\n",
              "  'Product': '1031',\n",
              "  'Quntity': 4},\n",
              " 8: {'Amount': 60,\n",
              "  'Contact': '888750088',\n",
              "  'Customer name': 'Rishi',\n",
              "  'Name_of_product': 'Sugar',\n",
              "  'Product': '1009',\n",
              "  'Quntity': 1},\n",
              " 9: {'Amount': 490,\n",
              "  'Contact': '7282218382',\n",
              "  'Customer name': 'Dee[pak',\n",
              "  'Name_of_product': 'Bread',\n",
              "  'Product': '1010',\n",
              "  'Quntity': 7},\n",
              " 10: {'Amount': 380,\n",
              "  'Contact': '2201928334',\n",
              "  'Customer name': 'Ankit',\n",
              "  'Name_of_product': 'Allmond Oil',\n",
              "  'Product': '1008',\n",
              "  'Quntity': 2},\n",
              " 11: {'Amount': 120,\n",
              "  'Contact': '89829292',\n",
              "  'Customer name': 'rishu',\n",
              "  'Name_of_product': 'Colgate',\n",
              "  'Product': '1020',\n",
              "  'Quntity': 2},\n",
              " 12: {'Amount': 300,\n",
              "  'Contact': '88875220292',\n",
              "  'Customer name': 'Rahul',\n",
              "  'Name_of_product': 'Maggi',\n",
              "  'Product': '1014',\n",
              "  'Quntity': 5}}"
            ]
          },
          "metadata": {},
          "execution_count": 115
        }
      ]
    },
    {
      "cell_type": "markdown",
      "metadata": {
        "id": "hbdv7iPUdfkB"
      },
      "source": [
        "# After the all transaction we save the data on text "
      ]
    },
    {
      "cell_type": "code",
      "metadata": {
        "id": "8YPsLo8tcmW2"
      },
      "source": [
        "Transaction = json.dumps(Purchasing)"
      ],
      "execution_count": 116,
      "outputs": []
    },
    {
      "cell_type": "code",
      "metadata": {
        "colab": {
          "base_uri": "https://localhost:8080/",
          "height": 171
        },
        "id": "apiR5Bk3hIHv",
        "outputId": "5b87efe1-f043-492f-d091-bd769d5596d4"
      },
      "source": [
        "Transaction"
      ],
      "execution_count": 117,
      "outputs": [
        {
          "output_type": "execute_result",
          "data": {
            "application/vnd.google.colaboratory.intrinsic+json": {
              "type": "string"
            },
            "text/plain": [
              "'{\"1\": {\"Customer name\": \"Netu\", \"Contact\": \"8922003311\", \"Product\": \"1022\", \"Name_of_product\": \"Peenut\", \"Quntity\": 2, \"Amount\": 780}, \"2\": {\"Customer name\": \"Geeta\", \"Contact\": \"8291002921\", \"Product\": \"1020\", \"Name_of_product\": \"Colgate\", \"Quntity\": 7, \"Amount\": 420}, \"3\": {\"Customer name\": \"Dhoni\", \"Contact\": \"9920122022\", \"Product\": \"1011\", \"Name_of_product\": \"Peenut\", \"Quntity\": 2, \"Amount\": 780}, \"4\": {\"Customer name\": \"Pollard\", \"Contact\": \"9100282811\", \"Product\": \"1032\", \"Name_of_product\": \"Hand Wash\", \"Quntity\": 2, \"Amount\": 160}, \"5\": {\"Customer name\": \"Umang\", \"Contact\": \"7200182731\", \"Product\": \"1031\", \"Name_of_product\": \"Face Wash\", \"Quntity\": 3, \"Amount\": 540}, \"6\": {\"Customer name\": \"Tommy\", \"Contact\": \"3288191828\", \"Product\": \"1011\", \"Name_of_product\": \"Peenut\", \"Quntity\": 2, \"Amount\": 780}, \"7\": {\"Customer name\": \"Harsha\", \"Contact\": \"8923235421\", \"Product\": \"1031\", \"Name_of_product\": \"Face Wash\", \"Quntity\": 4, \"Amount\": 720}, \"8\": {\"Customer name\": \"Rishi\", \"Contact\": \"888750088\", \"Product\": \"1009\", \"Name_of_product\": \"Sugar\", \"Quntity\": 1, \"Amount\": 60}, \"9\": {\"Customer name\": \"Dee[pak\", \"Contact\": \"7282218382\", \"Product\": \"1010\", \"Name_of_product\": \"Bread\", \"Quntity\": 7, \"Amount\": 490}, \"10\": {\"Customer name\": \"Ankit\", \"Contact\": \"2201928334\", \"Product\": \"1008\", \"Name_of_product\": \"Allmond Oil\", \"Quntity\": 2, \"Amount\": 380}, \"11\": {\"Customer name\": \"rishu\", \"Contact\": \"89829292\", \"Product\": \"1020\", \"Name_of_product\": \"Colgate\", \"Quntity\": 2, \"Amount\": 120}, \"12\": {\"Customer name\": \"Rahul\", \"Contact\": \"88875220292\", \"Product\": \"1014\", \"Name_of_product\": \"Maggi\", \"Quntity\": 5, \"Amount\": 300}}'"
            ]
          },
          "metadata": {},
          "execution_count": 117
        }
      ]
    },
    {
      "cell_type": "code",
      "metadata": {
        "id": "wVmTK2XDdcM1"
      },
      "source": [
        "file = open(\"Purchasing.json\",'w')\n",
        "file.write(Transaction)\n",
        "file.close()"
      ],
      "execution_count": 119,
      "outputs": []
    }
  ]
}