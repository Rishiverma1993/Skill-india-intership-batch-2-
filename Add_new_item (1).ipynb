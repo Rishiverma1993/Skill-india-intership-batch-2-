{
  "nbformat": 4,
  "nbformat_minor": 0,
  "metadata": {
    "colab": {
      "name": "Add new item.ipynb",
      "provenance": [],
      "collapsed_sections": []
    },
    "kernelspec": {
      "name": "python3",
      "display_name": "Python 3"
    },
    "language_info": {
      "name": "python"
    }
  },
  "cells": [
    {
      "cell_type": "markdown",
      "metadata": {
        "id": "gV3YT_9r2UNX"
      },
      "source": [
        "# Open json file "
      ]
    },
    {
      "cell_type": "code",
      "metadata": {
        "id": "ePUI98aH2bVk"
      },
      "source": [
        "data = open(\"Item.json\", 'r')\n",
        "text = data.read()\n",
        "data.close()"
      ],
      "execution_count": 1,
      "outputs": []
    },
    {
      "cell_type": "code",
      "metadata": {
        "id": "VJXtpCrR3Pe_"
      },
      "source": [
        "text"
      ],
      "execution_count": null,
      "outputs": []
    },
    {
      "cell_type": "markdown",
      "metadata": {
        "id": "XiJGbcKK3VYV"
      },
      "source": [
        "# This json file is on text formate now change the text file into dict"
      ]
    },
    {
      "cell_type": "code",
      "metadata": {
        "id": "NLM64aM13cBp"
      },
      "source": [
        "import json"
      ],
      "execution_count": 3,
      "outputs": []
    },
    {
      "cell_type": "code",
      "metadata": {
        "id": "SH7VGB6C3gim"
      },
      "source": [
        "record = json.loads(text)"
      ],
      "execution_count": 4,
      "outputs": []
    },
    {
      "cell_type": "code",
      "metadata": {
        "id": "5qH7lXYI3j4e"
      },
      "source": [
        "record['1035']"
      ],
      "execution_count": null,
      "outputs": []
    },
    {
      "cell_type": "markdown",
      "metadata": {
        "id": "nsX3W_I43qPM"
      },
      "source": [
        "# Add new item with all deteils\n",
        "## hear we add five item in Items.json"
      ]
    },
    {
      "cell_type": "code",
      "metadata": {
        "id": "lYr1Woow32oU"
      },
      "source": [
        "Item_id = str(input(\"Enter the product id: \"))\n",
        "Name = input(\"Enter the item name: \")\n",
        "Quntity =int(input(\"Enter the quntity: \"))\n",
        "price = int(input(\"Enter the price: \"))\n",
        "Manuf_data = str(input(\"Enter the Mf_data: \"))\n",
        "Exp_data = str(input(\"Enter the Ex_data: \"))\n",
        "\n",
        "record[Item_id] = {'Name':Name , 'Quntity':Quntity,'Manuf_data':Manuf_data,'Exp_data':Exp_data,'Price':price}"
      ],
      "execution_count": null,
      "outputs": []
    },
    {
      "cell_type": "code",
      "metadata": {
        "id": "SoKHcVdk5jC7"
      },
      "source": [
        "record"
      ],
      "execution_count": null,
      "outputs": []
    },
    {
      "cell_type": "markdown",
      "metadata": {
        "id": "Lpe0oq1j7waa"
      },
      "source": [
        "# if we want to updata the Quntity of product"
      ]
    },
    {
      "cell_type": "code",
      "metadata": {
        "id": "TJVK76-K75Ti"
      },
      "source": [
        "Updata_item = int(input(\"enter the id of product: \"))\n",
        "Updata_item = int(input(\"enter the number of product: \"))\n",
        "\n",
        "New_data =  record[Item_id]['Quntity'] + Updata_item \n",
        "print(New_data)\n",
        "\n",
        "record[Item_id]['Quntity'] = New_data\n",
        "print(\"Succefully update the quntity:\", record[Item_id]['Quntity'])"
      ],
      "execution_count": null,
      "outputs": []
    },
    {
      "cell_type": "code",
      "metadata": {
        "id": "-lYkWm_Tn0sV"
      },
      "source": [
        "record['1001']"
      ],
      "execution_count": null,
      "outputs": []
    },
    {
      "cell_type": "markdown",
      "metadata": {
        "id": "0x4GMUOV8_k_"
      },
      "source": [
        "# Now we update our inventory with use json"
      ]
    },
    {
      "cell_type": "code",
      "metadata": {
        "id": "CarbXI4w9fsJ"
      },
      "source": [
        "Item_id = str(input(\"Enter the product id: \"))\n",
        "Name = input(\"Enter the item name: \")\n",
        "Quntity =int(input(\"Enter the quntity: \"))\n",
        "price = int(input(\"Enter the price: \"))\n",
        "Manuf_data = str(input(\"Enter the Mf_data: \"))\n",
        "Exp_data = str(input(\"Enter the Ex_data: \"))\n",
        "\n",
        "record[Item_id] = {'Name':Name , 'Quntity':Quntity,'Manuf_data':Manuf_data,'Exp_data':Exp_data,'Price':price}\n",
        "\n",
        "js = json.dumps(record)\n",
        "\n",
        "file = open(\"record.json\",'w')\n",
        "file.write(js)\n",
        "file.close()"
      ],
      "execution_count": null,
      "outputs": []
    },
    {
      "cell_type": "code",
      "metadata": {
        "id": "ZyoUJ8__-lH-"
      },
      "source": [
        "record"
      ],
      "execution_count": null,
      "outputs": []
    }
  ]
}