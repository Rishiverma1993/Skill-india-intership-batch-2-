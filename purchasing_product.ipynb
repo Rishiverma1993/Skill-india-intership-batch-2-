{
  "nbformat": 4,
  "nbformat_minor": 0,
  "metadata": {
    "colab": {
      "name": "purchasing product.ipynb",
      "provenance": [],
      "collapsed_sections": []
    },
    "kernelspec": {
      "name": "python3",
      "display_name": "Python 3"
    },
    "language_info": {
      "name": "python"
    }
  },
  "cells": [
    {
      "cell_type": "markdown",
      "metadata": {
        "id": "5Yj8sPWUC_Zi"
      },
      "source": [
        "# Read the Inventory of Items"
      ]
    },
    {
      "cell_type": "code",
      "metadata": {
        "id": "zGFDkjVzDF7L"
      },
      "source": [
        "import json\n",
        "\n",
        "data = open(\"record.json\", 'r')\n",
        "text = data.read()\n",
        "data.close()\n",
        "\n",
        "record = json.loads(text)"
      ],
      "execution_count": 35,
      "outputs": []
    },
    {
      "cell_type": "code",
      "metadata": {
        "id": "bJItYv5pDa8i"
      },
      "source": [
        "record"
      ],
      "execution_count": null,
      "outputs": []
    },
    {
      "cell_type": "markdown",
      "metadata": {
        "id": "5qMIjOV_D9rf"
      },
      "source": [
        "## Now ask to user what item he want and quntity also"
      ]
    },
    {
      "cell_type": "code",
      "metadata": {
        "id": "VGzyzA73Mee8",
        "colab": {
          "base_uri": "https://localhost:8080/"
        },
        "outputId": "4dccf83f-cdc5-4454-f1e1-f1ef39d12d15"
      },
      "source": [
        "User_product = str(input(\"Enter the product id: \"))\n",
        "User_quntity = int(input(\"the quntity user want: \"))\n",
        "User_Name = str(input(\"Enter your name: \"))\n",
        "User_Phone = str(input(\"Enter your contact no.: \"))\n",
        "Payment_method  = str(input(\"Enter payment method(Cash\\Card): \"))\n",
        "\n",
        "\n",
        "print(\"Name of the product: \",record[User_product]['Name'])\n",
        "print(\"Total quntity: \",record[User_product]['Quntity'])\n",
        "print(\"Price of single item: \",record[User_product]['Price'])\n",
        "\n",
        "print('*************************************************************')\n",
        "print(\"Name of customer: \",User_Name)\n",
        "print(\"Contact: \" ,User_Phone)\n",
        "print(\"Mode of Payment: \" ,Payment_method)\n",
        "print(\"Product: \" ,record[User_product]['Name'])\n",
        "print(\"Quntity: \" ,User_quntity)\n",
        "print(\"billing amount: \" ,record[User_product]['Price'] * User_quntity)\n",
        "print('*************************************************************')"
      ],
      "execution_count": 50,
      "outputs": [
        {
          "output_type": "stream",
          "name": "stdout",
          "text": [
            "Enter the product id: 1022\n",
            "the quntity user want: 2\n",
            "Enter your name: Netu\n",
            "Enter your contact no.: 8922003311\n",
            "Enter payment method(Cash\\Card): Cash\n",
            "Name of the product:  Peenut\n",
            "Total quntity:  100\n",
            "Price of single item:  390\n",
            "*************************************************************\n",
            "Name of customer:  Netu\n",
            "Contact:  8922003311\n",
            "Mode of Payment:  Cash\n",
            "Product:  Peenut\n",
            "Quntity:  2\n",
            "billing amount:  780\n",
            "*************************************************************\n"
          ]
        }
      ]
    },
    {
      "cell_type": "markdown",
      "metadata": {
        "id": "2Sc2nqscU9jG"
      },
      "source": [
        "# Updata the record after the purchasing product"
      ]
    },
    {
      "cell_type": "code",
      "metadata": {
        "colab": {
          "base_uri": "https://localhost:8080/"
        },
        "id": "Km6IZwW5VJ8J",
        "outputId": "bee72742-1bc8-4409-c85f-4276d01f1bc3"
      },
      "source": [
        "record[User_product]['Quntity'] = record[User_product]['Quntity'] - User_quntity\n",
        "\n",
        "print(\"Name of the product: \",record[User_product]['Name'])\n",
        "\n",
        "print(\"Left Quntity: \",record[User_product]['Quntity'])"
      ],
      "execution_count": 51,
      "outputs": [
        {
          "output_type": "stream",
          "name": "stdout",
          "text": [
            "Name of the product:  Peenut\n",
            "Left Quntity:  98\n"
          ]
        }
      ]
    },
    {
      "cell_type": "markdown",
      "metadata": {
        "id": "yToUwyCiVsJ0"
      },
      "source": [
        "# Check the Quntity after purchasing"
      ]
    },
    {
      "cell_type": "code",
      "metadata": {
        "id": "LIC_g2uqWYW1"
      },
      "source": [
        "record"
      ],
      "execution_count": null,
      "outputs": []
    },
    {
      "cell_type": "markdown",
      "metadata": {
        "id": "t_Qw2QLpW5OC"
      },
      "source": [
        "# Save the perday sell on records use json (convert text file)\n"
      ]
    },
    {
      "cell_type": "code",
      "metadata": {
        "id": "aO2xIgYHXE_Y"
      },
      "source": [
        "js = json.dumps(record)\n",
        " \n",
        "file = open(\"record.json\",'w')\n",
        "file.write(js)\n",
        "file.close()"
      ],
      "execution_count": 52,
      "outputs": []
    },
    {
      "cell_type": "markdown",
      "metadata": {
        "id": "EZybSC0oDymQ"
      },
      "source": [
        "# Seles Json\n",
        "If user purchase multiple item"
      ]
    },
    {
      "cell_type": "code",
      "metadata": {
        "id": "hRjFb4WYD2e_"
      },
      "source": [
        "Purchasing  = {1:{'Customer name':User_Name,'Contact':User_Phone,'Product':User_product ,'Name_of_product':record[User_product]['Name'],\n",
        "                  'Quntity':User_quntity, 'Amount':record[User_product]['Price'] * User_quntity}}"
      ],
      "execution_count": 53,
      "outputs": []
    },
    {
      "cell_type": "code",
      "metadata": {
        "colab": {
          "base_uri": "https://localhost:8080/"
        },
        "id": "vPD4s6sVaB6E",
        "outputId": "e6858304-390f-4bdd-e580-7c0c411319e7"
      },
      "source": [
        "Purchasing"
      ],
      "execution_count": 54,
      "outputs": [
        {
          "output_type": "execute_result",
          "data": {
            "text/plain": [
              "{1: {'Amount': 780,\n",
              "  'Contact': '8922003311',\n",
              "  'Customer name': 'Netu',\n",
              "  'Name_of_product': 'Peenut',\n",
              "  'Product': '1022',\n",
              "  'Quntity': 2}}"
            ]
          },
          "metadata": {},
          "execution_count": 54
        }
      ]
    },
    {
      "cell_type": "code",
      "metadata": {
        "colab": {
          "base_uri": "https://localhost:8080/"
        },
        "id": "k9NZNscqtZPH",
        "outputId": "9e92a879-5ab3-4cac-96a5-9d71637be7e4"
      },
      "source": [
        "User_product = str(input(\"Enter the product id: \"))\n",
        "User_quntity = int(input(\"the quntity user want: \"))\n",
        "User_Name = str(input(\"Enter your name: \"))\n",
        "User_Phone = str(input(\"Enter your contact no.: \"))\n",
        "Payment_method  = str(input(\"Enter payment method(Cash\\Card): \"))\n",
        "\n",
        "\n",
        "print(\"Name of the product: \",record[User_product]['Name'])\n",
        "print(\"Total quntity: \",record[User_product]['Quntity'])\n",
        "print(\"Price of single item: \",record[User_product]['Price'])\n",
        "\n",
        "print('*************************************************************')\n",
        "print(\"Name of customer: \",User_Name)\n",
        "print(\"Contact: \" ,User_Phone)\n",
        "print(\"Mode of Payment: \" ,Payment_method)\n",
        "print(\"Product: \" ,record[User_product]['Name'])\n",
        "print(\"Quntity: \" ,User_quntity)\n",
        "print(\"billing amount: \" ,record[User_product]['Price'] * User_quntity)\n",
        "print('*************************************************************')\n",
        "\n",
        "\n",
        "Purchasing[(len(Purchasing)+1)] = {'Customer name':User_Name,'Contact':User_Phone,'Product':User_product ,'Name_of_product':record[User_product]['Name'],\n",
        "                  'Quntity':User_quntity, 'Amount':record[User_product]['Price'] * User_quntity}"
      ],
      "execution_count": 66,
      "outputs": [
        {
          "output_type": "stream",
          "name": "stdout",
          "text": [
            "Enter the product id: 1008\n",
            "the quntity user want: 2\n",
            "Enter your name: Ankit\n",
            "Enter your contact no.: 2201928334\n",
            "Enter payment method(Cash\\Card): Casg\n",
            "Name of the product:  Allmond Oil\n",
            "Total quntity:  10\n",
            "Price of single item:  190\n",
            "*************************************************************\n",
            "Name of customer:  Ankit\n",
            "Contact:  2201928334\n",
            "Mode of Payment:  Casg\n",
            "Product:  Allmond Oil\n",
            "Quntity:  2\n",
            "billing amount:  380\n",
            "*************************************************************\n"
          ]
        }
      ]
    },
    {
      "cell_type": "code",
      "metadata": {
        "colab": {
          "base_uri": "https://localhost:8080/"
        },
        "id": "nlHBo7PMb_zI",
        "outputId": "51c11f17-02ac-4f8c-b76f-2e1fed9d7274"
      },
      "source": [
        "Purchasing"
      ],
      "execution_count": 67,
      "outputs": [
        {
          "output_type": "execute_result",
          "data": {
            "text/plain": [
              "{1: {'Amount': 780,\n",
              "  'Contact': '8922003311',\n",
              "  'Customer name': 'Netu',\n",
              "  'Name_of_product': 'Peenut',\n",
              "  'Product': '1022',\n",
              "  'Quntity': 2},\n",
              " 2: {'Amount': 420,\n",
              "  'Contact': '8291002921',\n",
              "  'Customer name': 'Geeta',\n",
              "  'Name_of_product': 'Colgate',\n",
              "  'Product': '1020',\n",
              "  'Quntity': 7},\n",
              " 3: {'Amount': 780,\n",
              "  'Contact': '9920122022',\n",
              "  'Customer name': 'Dhoni',\n",
              "  'Name_of_product': 'Peenut',\n",
              "  'Product': '1011',\n",
              "  'Quntity': 2},\n",
              " 4: {'Amount': 160,\n",
              "  'Contact': '9100282811',\n",
              "  'Customer name': 'Pollard',\n",
              "  'Name_of_product': 'Hand Wash',\n",
              "  'Product': '1032',\n",
              "  'Quntity': 2},\n",
              " 5: {'Amount': 540,\n",
              "  'Contact': '7200182731',\n",
              "  'Customer name': 'Umang',\n",
              "  'Name_of_product': 'Face Wash',\n",
              "  'Product': '1031',\n",
              "  'Quntity': 3},\n",
              " 6: {'Amount': 780,\n",
              "  'Contact': '3288191828',\n",
              "  'Customer name': 'Tommy',\n",
              "  'Name_of_product': 'Peenut',\n",
              "  'Product': '1011',\n",
              "  'Quntity': 2},\n",
              " 7: {'Amount': 720,\n",
              "  'Contact': '8923235421',\n",
              "  'Customer name': 'Harsha',\n",
              "  'Name_of_product': 'Face Wash',\n",
              "  'Product': '1031',\n",
              "  'Quntity': 4},\n",
              " 8: {'Amount': 60,\n",
              "  'Contact': '888750088',\n",
              "  'Customer name': 'Rishi',\n",
              "  'Name_of_product': 'Sugar',\n",
              "  'Product': '1009',\n",
              "  'Quntity': 1},\n",
              " 9: {'Amount': 490,\n",
              "  'Contact': '7282218382',\n",
              "  'Customer name': 'Dee[pak',\n",
              "  'Name_of_product': 'Bread',\n",
              "  'Product': '1010',\n",
              "  'Quntity': 7},\n",
              " 10: {'Amount': 380,\n",
              "  'Contact': '2201928334',\n",
              "  'Customer name': 'Ankit',\n",
              "  'Name_of_product': 'Allmond Oil',\n",
              "  'Product': '1008',\n",
              "  'Quntity': 2}}"
            ]
          },
          "metadata": {},
          "execution_count": 67
        }
      ]
    },
    {
      "cell_type": "markdown",
      "metadata": {
        "id": "hbdv7iPUdfkB"
      },
      "source": [
        "# After the all transaction we save the data on text "
      ]
    },
    {
      "cell_type": "code",
      "metadata": {
        "id": "8YPsLo8tcmW2"
      },
      "source": [
        "Transaction = json.dumps(Purchasing)"
      ],
      "execution_count": 68,
      "outputs": []
    },
    {
      "cell_type": "code",
      "metadata": {
        "colab": {
          "base_uri": "https://localhost:8080/",
          "height": 171
        },
        "id": "apiR5Bk3hIHv",
        "outputId": "af8e5f28-214b-4d2e-d1e0-db98a9ed24c5"
      },
      "source": [
        "Transaction"
      ],
      "execution_count": 69,
      "outputs": [
        {
          "output_type": "execute_result",
          "data": {
            "application/vnd.google.colaboratory.intrinsic+json": {
              "type": "string"
            },
            "text/plain": [
              "'{\"1\": {\"Customer name\": \"Netu\", \"Contact\": \"8922003311\", \"Product\": \"1022\", \"Name_of_product\": \"Peenut\", \"Quntity\": 2, \"Amount\": 780}, \"2\": {\"Customer name\": \"Geeta\", \"Contact\": \"8291002921\", \"Product\": \"1020\", \"Name_of_product\": \"Colgate\", \"Quntity\": 7, \"Amount\": 420}, \"3\": {\"Customer name\": \"Dhoni\", \"Contact\": \"9920122022\", \"Product\": \"1011\", \"Name_of_product\": \"Peenut\", \"Quntity\": 2, \"Amount\": 780}, \"4\": {\"Customer name\": \"Pollard\", \"Contact\": \"9100282811\", \"Product\": \"1032\", \"Name_of_product\": \"Hand Wash\", \"Quntity\": 2, \"Amount\": 160}, \"5\": {\"Customer name\": \"Umang\", \"Contact\": \"7200182731\", \"Product\": \"1031\", \"Name_of_product\": \"Face Wash\", \"Quntity\": 3, \"Amount\": 540}, \"6\": {\"Customer name\": \"Tommy\", \"Contact\": \"3288191828\", \"Product\": \"1011\", \"Name_of_product\": \"Peenut\", \"Quntity\": 2, \"Amount\": 780}, \"7\": {\"Customer name\": \"Harsha\", \"Contact\": \"8923235421\", \"Product\": \"1031\", \"Name_of_product\": \"Face Wash\", \"Quntity\": 4, \"Amount\": 720}, \"8\": {\"Customer name\": \"Rishi\", \"Contact\": \"888750088\", \"Product\": \"1009\", \"Name_of_product\": \"Sugar\", \"Quntity\": 1, \"Amount\": 60}, \"9\": {\"Customer name\": \"Dee[pak\", \"Contact\": \"7282218382\", \"Product\": \"1010\", \"Name_of_product\": \"Bread\", \"Quntity\": 7, \"Amount\": 490}, \"10\": {\"Customer name\": \"Ankit\", \"Contact\": \"2201928334\", \"Product\": \"1008\", \"Name_of_product\": \"Allmond Oil\", \"Quntity\": 2, \"Amount\": 380}}'"
            ]
          },
          "metadata": {},
          "execution_count": 69
        }
      ]
    },
    {
      "cell_type": "code",
      "metadata": {
        "id": "wVmTK2XDdcM1"
      },
      "source": [
        "file = open(\"Purchasing.json\",'w')\n",
        "file.write(Transaction)\n",
        "file.close()"
      ],
      "execution_count": 70,
      "outputs": []
    }
  ]
}