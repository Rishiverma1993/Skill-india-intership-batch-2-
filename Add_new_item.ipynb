{
  "nbformat": 4,
  "nbformat_minor": 0,
  "metadata": {
    "colab": {
      "name": "Add new item.ipynb",
      "provenance": [],
      "collapsed_sections": [],
      "toc_visible": true
    },
    "kernelspec": {
      "name": "python3",
      "display_name": "Python 3"
    },
    "language_info": {
      "name": "python"
    }
  },
  "cells": [
    {
      "cell_type": "markdown",
      "metadata": {
        "id": "gV3YT_9r2UNX"
      },
      "source": [
        "# Open json file "
      ]
    },
    {
      "cell_type": "code",
      "metadata": {
        "id": "ePUI98aH2bVk"
      },
      "source": [
        "data = open(\"Item.json\", 'r')\n",
        "text = data.read()\n",
        "data.close()"
      ],
      "execution_count": 3,
      "outputs": []
    },
    {
      "cell_type": "code",
      "metadata": {
        "id": "VJXtpCrR3Pe_"
      },
      "source": [
        "text"
      ],
      "execution_count": null,
      "outputs": []
    },
    {
      "cell_type": "markdown",
      "metadata": {
        "id": "XiJGbcKK3VYV"
      },
      "source": [
        "# This json file is on text formate now change the text file into dict"
      ]
    },
    {
      "cell_type": "code",
      "metadata": {
        "id": "NLM64aM13cBp"
      },
      "source": [
        "import json"
      ],
      "execution_count": 5,
      "outputs": []
    },
    {
      "cell_type": "code",
      "metadata": {
        "id": "SH7VGB6C3gim"
      },
      "source": [
        "record = json.loads(text)"
      ],
      "execution_count": 6,
      "outputs": []
    },
    {
      "cell_type": "code",
      "metadata": {
        "colab": {
          "base_uri": "https://localhost:8080/"
        },
        "id": "5qH7lXYI3j4e",
        "outputId": "c57f27d9-f07f-4576-8b82-d170bf0833ef"
      },
      "source": [
        "record['1001']"
      ],
      "execution_count": 11,
      "outputs": [
        {
          "output_type": "execute_result",
          "data": {
            "text/plain": [
              "{'Exp_data': '03oct2021',\n",
              " 'Manuf_data': '10aug2020',\n",
              " 'Name': 'Amul Ghee',\n",
              " 'Price': 750,\n",
              " 'Quntity': 5}"
            ]
          },
          "metadata": {},
          "execution_count": 11
        }
      ]
    },
    {
      "cell_type": "markdown",
      "metadata": {
        "id": "nsX3W_I43qPM"
      },
      "source": [
        "# Add new item with all deteils"
      ]
    },
    {
      "cell_type": "code",
      "metadata": {
        "colab": {
          "base_uri": "https://localhost:8080/"
        },
        "id": "lYr1Woow32oU",
        "outputId": "ead243cd-50a1-4326-b19b-50fee9b72174"
      },
      "source": [
        "Item_id = str(input(\"Enter the product id: \"))\n",
        "name = input(\"Enter the item name: \")\n",
        "Quntity =int(input(\"Enter the quntity: \"))\n",
        "price = int(input(\"Enter the price: \"))\n",
        "Manuf_data = str(input(\"Enter the Mf_data: \"))\n",
        "Exp_data = str(input(\"Enter the Ex_data: \"))\n",
        "\n",
        "record[Item_id] = {'name':name , 'Quntity':Quntity,'Manuf_data':Manuf_data,'Exp_data':Exp_data,'Price':price}"
      ],
      "execution_count": 13,
      "outputs": [
        {
          "name": "stdout",
          "output_type": "stream",
          "text": [
            "Enter the product id: 1031\n",
            "Enter the item name: Hand Wash\n",
            "Enter the quntity: 60\n",
            "Enter the price: 115\n",
            "Enter the Mf_data: 01sep2021\n",
            "Enter the Ex_data: 03dec2021\n"
          ]
        }
      ]
    },
    {
      "cell_type": "code",
      "metadata": {
        "id": "SoKHcVdk5jC7"
      },
      "source": [
        "record"
      ],
      "execution_count": null,
      "outputs": []
    },
    {
      "cell_type": "code",
      "metadata": {
        "id": "iAIC25xp7v8l"
      },
      "source": [
        ""
      ],
      "execution_count": null,
      "outputs": []
    },
    {
      "cell_type": "markdown",
      "metadata": {
        "id": "Lpe0oq1j7waa"
      },
      "source": [
        "# if we want to updata the Quntity of product"
      ]
    },
    {
      "cell_type": "code",
      "metadata": {
        "colab": {
          "base_uri": "https://localhost:8080/"
        },
        "id": "TJVK76-K75Ti",
        "outputId": "15e8ca99-4604-46bf-ba6c-c6b0d8e41b4f"
      },
      "source": [
        "Updata_item = int(input(\"enter the id of product: \"))\n",
        "Updata_item = int(input(\"enter the number of product: \"))\n",
        "\n",
        "New_data =  record[Item_id]['Quntity'] + Updata_item \n",
        "print(New_data)\n",
        "\n",
        "record[Item_id]['Quntity'] = New_data\n",
        "print(\"Succefully update the quntity:\", record[Item_id]['Quntity'])"
      ],
      "execution_count": 16,
      "outputs": [
        {
          "output_type": "stream",
          "name": "stdout",
          "text": [
            "enter the id of product: 1031\n",
            "enter the number of product: 100\n",
            "160\n",
            "Succefully update the quntity: 160\n"
          ]
        }
      ]
    },
    {
      "cell_type": "code",
      "metadata": {
        "colab": {
          "base_uri": "https://localhost:8080/"
        },
        "id": "2CiH20K38kV7",
        "outputId": "303ec226-a55e-4852-e0c7-3c2bbef24fc6"
      },
      "source": [
        "record['1031']"
      ],
      "execution_count": 17,
      "outputs": [
        {
          "output_type": "execute_result",
          "data": {
            "text/plain": [
              "{'Exp_data': '03dec2021',\n",
              " 'Manuf_data': '01sep2021',\n",
              " 'Price': 115,\n",
              " 'Quntity': 160,\n",
              " 'name': 'Hand Wash'}"
            ]
          },
          "metadata": {},
          "execution_count": 17
        }
      ]
    },
    {
      "cell_type": "markdown",
      "metadata": {
        "id": "0x4GMUOV8_k_"
      },
      "source": [
        "# Now we update our inventory with use json"
      ]
    },
    {
      "cell_type": "code",
      "metadata": {
        "id": "CarbXI4w9fsJ"
      },
      "source": [
        "Item_id = str(input(\"Enter the product id: \"))\n",
        "name = input(\"Enter the item name: \")\n",
        "Quntity =int(input(\"Enter the quntity: \"))\n",
        "price = int(input(\"Enter the price: \"))\n",
        "Manuf_data = str(input(\"Enter the Mf_data: \"))\n",
        "Exp_data = str(input(\"Enter the Ex_data: \"))\n",
        "\n",
        "record[Item_id] = {'name':name , 'Quntity':Quntity,'Manuf_data':Manuf_data,'Exp_data':Exp_data,'Price':price}\n",
        "\n",
        "js = json.dumps(record)\n",
        "\n",
        "file = open(\"record.json\",'w')\n",
        "file.write(js)\n",
        "file.close()"
      ],
      "execution_count": null,
      "outputs": []
    },
    {
      "cell_type": "code",
      "metadata": {
        "id": "ZyoUJ8__-lH-"
      },
      "source": [
        "record"
      ],
      "execution_count": null,
      "outputs": []
    }
  ]
}